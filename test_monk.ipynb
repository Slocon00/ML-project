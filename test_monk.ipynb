{
 "cells": [
  {
   "cell_type": "code",
   "execution_count": 247,
   "metadata": {},
   "outputs": [],
   "source": [
    "import numpy as np\n",
    "import random\n",
    "import matplotlib.pyplot as plt\n",
    "import pandas as pd\n",
    "#from sklearn import OneHotEncoder\n",
    "\n",
    "\n",
    "from layer import HiddenLayer\n",
    "from activations import *\n",
    "from losses import *\n",
    "from network import Network\n",
    "from regularizers import *\n",
    "from utils import *\n",
    "\n",
    "random.seed(42)\n",
    "np.random.seed(42)"
   ]
  },
  {
   "cell_type": "markdown",
   "metadata": {},
   "source": [
    "## Additional Variable Information\n",
    "    1. class: 0, 1 \n",
    "    2. a1:    1, 2, 3\n",
    "    3. a2:    1, 2, 3\n",
    "    4. a3:    1, 2\n",
    "    5. a4:    1, 2, 3\n",
    "    6. a5:    1, 2, 3, 4\n",
    "    7. a6:    1, 2\n",
    "    8. Id:    (A unique symbol for each instance)"
   ]
  },
  {
   "cell_type": "code",
   "execution_count": 248,
   "metadata": {},
   "outputs": [
    {
     "data": {
      "text/html": [
       "<div>\n",
       "<style scoped>\n",
       "    .dataframe tbody tr th:only-of-type {\n",
       "        vertical-align: middle;\n",
       "    }\n",
       "\n",
       "    .dataframe tbody tr th {\n",
       "        vertical-align: top;\n",
       "    }\n",
       "\n",
       "    .dataframe thead th {\n",
       "        text-align: right;\n",
       "    }\n",
       "</style>\n",
       "<table border=\"1\" class=\"dataframe\">\n",
       "  <thead>\n",
       "    <tr style=\"text-align: right;\">\n",
       "      <th></th>\n",
       "      <th>target</th>\n",
       "      <th>x1</th>\n",
       "      <th>x2</th>\n",
       "      <th>x3</th>\n",
       "      <th>x4</th>\n",
       "      <th>x5</th>\n",
       "      <th>x6</th>\n",
       "    </tr>\n",
       "  </thead>\n",
       "  <tbody>\n",
       "    <tr>\n",
       "      <th>0</th>\n",
       "      <td>1</td>\n",
       "      <td>1</td>\n",
       "      <td>1</td>\n",
       "      <td>1</td>\n",
       "      <td>1</td>\n",
       "      <td>3</td>\n",
       "      <td>1</td>\n",
       "    </tr>\n",
       "    <tr>\n",
       "      <th>1</th>\n",
       "      <td>1</td>\n",
       "      <td>1</td>\n",
       "      <td>1</td>\n",
       "      <td>1</td>\n",
       "      <td>1</td>\n",
       "      <td>3</td>\n",
       "      <td>2</td>\n",
       "    </tr>\n",
       "    <tr>\n",
       "      <th>2</th>\n",
       "      <td>1</td>\n",
       "      <td>1</td>\n",
       "      <td>1</td>\n",
       "      <td>1</td>\n",
       "      <td>3</td>\n",
       "      <td>2</td>\n",
       "      <td>1</td>\n",
       "    </tr>\n",
       "    <tr>\n",
       "      <th>3</th>\n",
       "      <td>1</td>\n",
       "      <td>1</td>\n",
       "      <td>1</td>\n",
       "      <td>1</td>\n",
       "      <td>3</td>\n",
       "      <td>3</td>\n",
       "      <td>2</td>\n",
       "    </tr>\n",
       "    <tr>\n",
       "      <th>4</th>\n",
       "      <td>1</td>\n",
       "      <td>1</td>\n",
       "      <td>1</td>\n",
       "      <td>2</td>\n",
       "      <td>1</td>\n",
       "      <td>2</td>\n",
       "      <td>1</td>\n",
       "    </tr>\n",
       "    <tr>\n",
       "      <th>...</th>\n",
       "      <td>...</td>\n",
       "      <td>...</td>\n",
       "      <td>...</td>\n",
       "      <td>...</td>\n",
       "      <td>...</td>\n",
       "      <td>...</td>\n",
       "      <td>...</td>\n",
       "    </tr>\n",
       "    <tr>\n",
       "      <th>119</th>\n",
       "      <td>1</td>\n",
       "      <td>3</td>\n",
       "      <td>3</td>\n",
       "      <td>2</td>\n",
       "      <td>1</td>\n",
       "      <td>4</td>\n",
       "      <td>2</td>\n",
       "    </tr>\n",
       "    <tr>\n",
       "      <th>120</th>\n",
       "      <td>1</td>\n",
       "      <td>3</td>\n",
       "      <td>3</td>\n",
       "      <td>2</td>\n",
       "      <td>3</td>\n",
       "      <td>1</td>\n",
       "      <td>2</td>\n",
       "    </tr>\n",
       "    <tr>\n",
       "      <th>121</th>\n",
       "      <td>1</td>\n",
       "      <td>3</td>\n",
       "      <td>3</td>\n",
       "      <td>2</td>\n",
       "      <td>3</td>\n",
       "      <td>2</td>\n",
       "      <td>2</td>\n",
       "    </tr>\n",
       "    <tr>\n",
       "      <th>122</th>\n",
       "      <td>1</td>\n",
       "      <td>3</td>\n",
       "      <td>3</td>\n",
       "      <td>2</td>\n",
       "      <td>3</td>\n",
       "      <td>3</td>\n",
       "      <td>2</td>\n",
       "    </tr>\n",
       "    <tr>\n",
       "      <th>123</th>\n",
       "      <td>1</td>\n",
       "      <td>3</td>\n",
       "      <td>3</td>\n",
       "      <td>2</td>\n",
       "      <td>3</td>\n",
       "      <td>4</td>\n",
       "      <td>2</td>\n",
       "    </tr>\n",
       "  </tbody>\n",
       "</table>\n",
       "<p>124 rows × 7 columns</p>\n",
       "</div>"
      ],
      "text/plain": [
       "     target  x1  x2  x3  x4  x5  x6\n",
       "0         1   1   1   1   1   3   1\n",
       "1         1   1   1   1   1   3   2\n",
       "2         1   1   1   1   3   2   1\n",
       "3         1   1   1   1   3   3   2\n",
       "4         1   1   1   2   1   2   1\n",
       "..      ...  ..  ..  ..  ..  ..  ..\n",
       "119       1   3   3   2   1   4   2\n",
       "120       1   3   3   2   3   1   2\n",
       "121       1   3   3   2   3   2   2\n",
       "122       1   3   3   2   3   3   2\n",
       "123       1   3   3   2   3   4   2\n",
       "\n",
       "[124 rows x 7 columns]"
      ]
     },
     "execution_count": 248,
     "metadata": {},
     "output_type": "execute_result"
    }
   ],
   "source": [
    "names = ['target', 'x1', 'x2', 'x3', 'x4', 'x5', 'x6', 'id']\n",
    "df_train = pd.read_csv('./data/monk/monks-1.train', sep=' ', skipinitialspace=True, names=names).drop([\"id\"], axis=1)\n",
    "df_train\n"
   ]
  },
  {
   "cell_type": "code",
   "execution_count": 249,
   "metadata": {},
   "outputs": [
    {
     "data": {
      "text/html": [
       "<div>\n",
       "<style scoped>\n",
       "    .dataframe tbody tr th:only-of-type {\n",
       "        vertical-align: middle;\n",
       "    }\n",
       "\n",
       "    .dataframe tbody tr th {\n",
       "        vertical-align: top;\n",
       "    }\n",
       "\n",
       "    .dataframe thead th {\n",
       "        text-align: right;\n",
       "    }\n",
       "</style>\n",
       "<table border=\"1\" class=\"dataframe\">\n",
       "  <thead>\n",
       "    <tr style=\"text-align: right;\">\n",
       "      <th></th>\n",
       "      <th>target</th>\n",
       "      <th>x1</th>\n",
       "      <th>x2</th>\n",
       "      <th>x3</th>\n",
       "      <th>x4</th>\n",
       "      <th>x5</th>\n",
       "      <th>x6</th>\n",
       "    </tr>\n",
       "  </thead>\n",
       "  <tbody>\n",
       "    <tr>\n",
       "      <th>0</th>\n",
       "      <td>1</td>\n",
       "      <td>1</td>\n",
       "      <td>1</td>\n",
       "      <td>1</td>\n",
       "      <td>1</td>\n",
       "      <td>1</td>\n",
       "      <td>1</td>\n",
       "    </tr>\n",
       "    <tr>\n",
       "      <th>1</th>\n",
       "      <td>1</td>\n",
       "      <td>1</td>\n",
       "      <td>1</td>\n",
       "      <td>1</td>\n",
       "      <td>1</td>\n",
       "      <td>1</td>\n",
       "      <td>2</td>\n",
       "    </tr>\n",
       "    <tr>\n",
       "      <th>2</th>\n",
       "      <td>1</td>\n",
       "      <td>1</td>\n",
       "      <td>1</td>\n",
       "      <td>1</td>\n",
       "      <td>1</td>\n",
       "      <td>2</td>\n",
       "      <td>1</td>\n",
       "    </tr>\n",
       "    <tr>\n",
       "      <th>3</th>\n",
       "      <td>1</td>\n",
       "      <td>1</td>\n",
       "      <td>1</td>\n",
       "      <td>1</td>\n",
       "      <td>1</td>\n",
       "      <td>2</td>\n",
       "      <td>2</td>\n",
       "    </tr>\n",
       "    <tr>\n",
       "      <th>4</th>\n",
       "      <td>1</td>\n",
       "      <td>1</td>\n",
       "      <td>1</td>\n",
       "      <td>1</td>\n",
       "      <td>1</td>\n",
       "      <td>3</td>\n",
       "      <td>1</td>\n",
       "    </tr>\n",
       "    <tr>\n",
       "      <th>...</th>\n",
       "      <td>...</td>\n",
       "      <td>...</td>\n",
       "      <td>...</td>\n",
       "      <td>...</td>\n",
       "      <td>...</td>\n",
       "      <td>...</td>\n",
       "      <td>...</td>\n",
       "    </tr>\n",
       "    <tr>\n",
       "      <th>427</th>\n",
       "      <td>1</td>\n",
       "      <td>3</td>\n",
       "      <td>3</td>\n",
       "      <td>2</td>\n",
       "      <td>3</td>\n",
       "      <td>2</td>\n",
       "      <td>2</td>\n",
       "    </tr>\n",
       "    <tr>\n",
       "      <th>428</th>\n",
       "      <td>1</td>\n",
       "      <td>3</td>\n",
       "      <td>3</td>\n",
       "      <td>2</td>\n",
       "      <td>3</td>\n",
       "      <td>3</td>\n",
       "      <td>1</td>\n",
       "    </tr>\n",
       "    <tr>\n",
       "      <th>429</th>\n",
       "      <td>1</td>\n",
       "      <td>3</td>\n",
       "      <td>3</td>\n",
       "      <td>2</td>\n",
       "      <td>3</td>\n",
       "      <td>3</td>\n",
       "      <td>2</td>\n",
       "    </tr>\n",
       "    <tr>\n",
       "      <th>430</th>\n",
       "      <td>1</td>\n",
       "      <td>3</td>\n",
       "      <td>3</td>\n",
       "      <td>2</td>\n",
       "      <td>3</td>\n",
       "      <td>4</td>\n",
       "      <td>1</td>\n",
       "    </tr>\n",
       "    <tr>\n",
       "      <th>431</th>\n",
       "      <td>1</td>\n",
       "      <td>3</td>\n",
       "      <td>3</td>\n",
       "      <td>2</td>\n",
       "      <td>3</td>\n",
       "      <td>4</td>\n",
       "      <td>2</td>\n",
       "    </tr>\n",
       "  </tbody>\n",
       "</table>\n",
       "<p>432 rows × 7 columns</p>\n",
       "</div>"
      ],
      "text/plain": [
       "     target  x1  x2  x3  x4  x5  x6\n",
       "0         1   1   1   1   1   1   1\n",
       "1         1   1   1   1   1   1   2\n",
       "2         1   1   1   1   1   2   1\n",
       "3         1   1   1   1   1   2   2\n",
       "4         1   1   1   1   1   3   1\n",
       "..      ...  ..  ..  ..  ..  ..  ..\n",
       "427       1   3   3   2   3   2   2\n",
       "428       1   3   3   2   3   3   1\n",
       "429       1   3   3   2   3   3   2\n",
       "430       1   3   3   2   3   4   1\n",
       "431       1   3   3   2   3   4   2\n",
       "\n",
       "[432 rows x 7 columns]"
      ]
     },
     "execution_count": 249,
     "metadata": {},
     "output_type": "execute_result"
    }
   ],
   "source": [
    "df_test = pd.read_csv(\"./data/monk/monks-1.test\", sep=' ', skipinitialspace=True, names=names).drop([\"id\"], axis=1)\n",
    "df_test"
   ]
  },
  {
   "cell_type": "code",
   "execution_count": 250,
   "metadata": {},
   "outputs": [],
   "source": [
    "# do the one hot encoding of inputs over 17 classes\n",
    "y_train = df_train[\"target\"]\n",
    "y_train = y_train.values\n",
    "\n",
    "X_train = pd.get_dummies(df_train, columns=['x1', 'x2', 'x3', 'x4', 'x5', 'x6']).drop([\"target\"], axis=1)\n",
    "X_train = X_train.values\n",
    "# change input fron True/False to 1/0\n",
    "X_train = X_train.astype(int)"
   ]
  },
  {
   "cell_type": "code",
   "execution_count": 251,
   "metadata": {},
   "outputs": [
    {
     "name": "stdout",
     "output_type": "stream",
     "text": [
      "(124, 17, 1)\n",
      "(124, 1, 1)\n"
     ]
    }
   ],
   "source": [
    "X_train.shape = (len(X_train), 17, 1)\n",
    "y_train.shape = (len(y_train), 1, 1)\n",
    "\n",
    "print(X_train.shape)\n",
    "print(y_train.shape)"
   ]
  },
  {
   "cell_type": "code",
   "execution_count": 252,
   "metadata": {},
   "outputs": [],
   "source": [
    "# do the one hot encoding of inputs over 17 classes\n",
    "y_test = df_test[\"target\"]\n",
    "y_test = y_test.values\n",
    "\n",
    "X_test = pd.get_dummies(df_test, columns=['x1', 'x2', 'x3', 'x4', 'x5', 'x6']).drop([\"target\"], axis=1)\n",
    "X_test = X_test.values\n",
    "# change input fron True/False to 1/0\n",
    "X_test = X_test.astype(int)"
   ]
  },
  {
   "cell_type": "code",
   "execution_count": 253,
   "metadata": {},
   "outputs": [
    {
     "name": "stdout",
     "output_type": "stream",
     "text": [
      "(432, 17, 1)\n",
      "(432, 1, 1)\n"
     ]
    }
   ],
   "source": [
    "X_test.shape = (len(X_test), 17, 1)\n",
    "y_test.shape = (len(y_test), 1, 1)\n",
    "\n",
    "print(X_test.shape)\n",
    "print(y_test.shape)"
   ]
  },
  {
   "cell_type": "code",
   "execution_count": null,
   "metadata": {},
   "outputs": [],
   "source": []
  },
  {
   "cell_type": "code",
   "execution_count": 254,
   "metadata": {},
   "outputs": [],
   "source": [
    "net = Network(MSE(1))\n",
    "\n",
    "net.add_layer(input_size=len(X_train[0]), units_size=4, starting=Range_random(), activation=ReLU())\n",
    "net.add_layer(input_size=4, units_size=1, starting=Range_random(), activation=Sigmoid())"
   ]
  },
  {
   "cell_type": "code",
   "execution_count": 255,
   "metadata": {},
   "outputs": [],
   "source": [
    "out = net.forward(X_train[0])"
   ]
  },
  {
   "cell_type": "code",
   "execution_count": 256,
   "metadata": {},
   "outputs": [
    {
     "data": {
      "text/plain": [
       "(1, 1)"
      ]
     },
     "execution_count": 256,
     "metadata": {},
     "output_type": "execute_result"
    }
   ],
   "source": [
    "y_train[0].shape"
   ]
  },
  {
   "cell_type": "code",
   "execution_count": 257,
   "metadata": {},
   "outputs": [
    {
     "data": {
      "text/plain": [
       "0.07890323897012237"
      ]
     },
     "execution_count": 257,
     "metadata": {},
     "output_type": "execute_result"
    }
   ],
   "source": [
    "loss = net.loss.forward(y_pred=out, y_true=y_train[0])\n",
    "loss"
   ]
  },
  {
   "cell_type": "code",
   "execution_count": 258,
   "metadata": {},
   "outputs": [],
   "source": [
    "net.backward(net.loss.backward(y_pred=out, y_true=y_train[0]))"
   ]
  },
  {
   "cell_type": "code",
   "execution_count": 259,
   "metadata": {},
   "outputs": [
    {
     "data": {
      "text/plain": [
       "0.07169786101833625"
      ]
     },
     "execution_count": 259,
     "metadata": {},
     "output_type": "execute_result"
    }
   ],
   "source": [
    "out = net.forward(X_train[0])\n",
    "loss = net.loss.forward(y_pred=out, y_true=y_train[0])\n",
    "loss"
   ]
  },
  {
   "cell_type": "code",
   "execution_count": 260,
   "metadata": {},
   "outputs": [
    {
     "data": {
      "image/png": "[encoded data removed]",
      "text/plain": [
       "<Figure size 640x480 with 1 Axes>"
      ]
     },
     "metadata": {},
     "output_type": "display_data"
    }
   ],
   "source": [
    "# loop over all the training set\n",
    "losses = []\n",
    "for i in range(100):\n",
    "    for i in range(len(X_train)):\n",
    "        out = net.forward(X_train[i])\n",
    "        loss = net.loss.forward(y_pred=out, y_true=y_train[i])\n",
    "        net.backward(net.loss.backward(y_pred=out, y_true=y_train[i]))\n",
    "        losses.append(loss)\n",
    "        \n",
    "# plot the loss\n",
    "plt.plot(losses)\n",
    "plt.show()"
   ]
  },
  {
   "cell_type": "code",
   "execution_count": 261,
   "metadata": {},
   "outputs": [
    {
     "name": "stdout",
     "output_type": "stream",
     "text": [
      "(432, 1, 1)\n",
      "Accuracy of the model is:  100.0 %\n"
     ]
    }
   ],
   "source": [
    "# test the network\n",
    "y_pred = []\n",
    "for i in range(len(X_test)):\n",
    "    out = net.forward(X_test[i])\n",
    "    y_pred.append(out)\n",
    "\n",
    "y_pred = np.array(y_pred)\n",
    "\n",
    "y_pred = y_pred.reshape(len(y_pred), 1)\n",
    "y_test1 = y_test.copy()\n",
    "y_test1 = y_test1.reshape(len(y_test1), 1)\n",
    "\n",
    "print(y_test.shape)\n",
    "\n",
    "for i in range(len(y_pred)):\n",
    "    if y_pred[i] > 0.5:\n",
    "        y_pred[i] = 1\n",
    "    else:\n",
    "        y_pred[i] = 0\n",
    "\n",
    "# check the accuracy in percentage\n",
    "accuracy = np.sum(y_pred == y_test1) / len(y_test1) * 100\n",
    "print(\"Accuracy of the model is: \", accuracy, \"%\")\n",
    "    \n",
    "\n",
    "\n",
    "\n"
   ]
  },
  {
   "cell_type": "markdown",
   "metadata": {},
   "source": [
    "# plotting the acc over epochs"
   ]
  },
  {
   "cell_type": "code",
   "execution_count": 262,
   "metadata": {},
   "outputs": [],
   "source": [
    "net = Network(MSE(1))\n",
    "\n",
    "net.add_layer(input_size=len(X_train[0]), units_size=4, starting=Range_random(), activation=ReLU())\n",
    "net.add_layer(input_size=4, units_size=1, starting=Range_random(), activation=Sigmoid())\n",
    "accs = []"
   ]
  },
  {
   "cell_type": "code",
   "execution_count": 263,
   "metadata": {},
   "outputs": [],
   "source": [
    "def acc():\n",
    "    y_pred = []\n",
    "    for i in range(len(X_test)):\n",
    "        out = net.forward(X_test[i])\n",
    "        y_pred.append(out)\n",
    "\n",
    "    y_pred = np.array(y_pred)\n",
    "\n",
    "    y_pred = y_pred.reshape(len(y_pred), 1)\n",
    "    y_test1 = y_test.copy()\n",
    "    y_test1 = y_test1.reshape(len(y_test1), 1)\n",
    "\n",
    "    for i in range(len(y_pred)):\n",
    "        if y_pred[i] > 0.5:\n",
    "            y_pred[i] = 1\n",
    "        else:\n",
    "            y_pred[i] = 0\n",
    "\n",
    "    # check the accuracy in percentage\n",
    "    accuracy = np.sum(y_pred == y_test1) / len(y_test1) * 100\n",
    "    accs.append(accuracy)\n",
    "    \n",
    "    #print(\"Accuracy of the model is: \", accuracy, \"%\")"
   ]
  },
  {
   "cell_type": "code",
   "execution_count": 264,
   "metadata": {},
   "outputs": [
    {
     "data": {
      "image/png": "[encoded data removed]",
      "text/plain": [
       "<Figure size 640x480 with 1 Axes>"
      ]
     },
     "metadata": {},
     "output_type": "display_data"
    },
    {
     "data": {
      "image/png": "[encoded data removed]",
      "text/plain": [
       "<Figure size 640x480 with 1 Axes>"
      ]
     },
     "metadata": {},
     "output_type": "display_data"
    }
   ],
   "source": [
    "# loop over all the training set\n",
    "losses = []\n",
    "for i in range(100):\n",
    "    for i in range(len(X_train)):\n",
    "        out = net.forward(X_train[i])\n",
    "        loss = net.loss.forward(y_pred=out, y_true=y_train[i])\n",
    "        net.backward(net.loss.backward(y_pred=out, y_true=y_train[i]))\n",
    "        losses.append(loss)\n",
    "    acc()\n",
    "        \n",
    "# plot the loss and accuracy\n",
    "plt.plot(losses)\n",
    "plt.show()\n",
    "plt.plot(accs)\n",
    "plt.show()\n"
   ]
  }
 ],
 "metadata": {
  "kernelspec": {
   "display_name": ".venv",
   "language": "python",
   "name": "python3"
  },
  "language_info": {
   "codemirror_mode": {
    "name": "ipython",
    "version": 3
   },
   "file_extension": ".py",
   "mimetype": "text/x-python",
   "name": "python",
   "nbconvert_exporter": "python",
   "pygments_lexer": "ipython3",
   "version": "3.10.8"
  }
 },
 "nbformat": 4,
 "nbformat_minor": 2
}
