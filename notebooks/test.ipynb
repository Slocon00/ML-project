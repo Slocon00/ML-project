{
 "cells": [
  {
   "cell_type": "code",
   "execution_count": null,
   "metadata": {
    "ExecuteTime": {
     "end_time": "2023-12-30T14:25:47.133900800Z",
     "start_time": "2023-12-30T14:25:45.614599900Z"
    }
   },
   "outputs": [],
   "source": [
    "import numpy.random\n",
    "%load_ext autoreload\n",
    "%autoreload 2"
   ]
  },
  {
   "cell_type": "code",
   "execution_count": null,
   "metadata": {
    "ExecuteTime": {
     "end_time": "2023-12-30T14:28:14.764374200Z",
     "start_time": "2023-12-30T14:28:14.648368500Z"
    }
   },
   "outputs": [],
   "source": [
    "import numpy as np\n",
    "import random\n",
    "import matplotlib.pyplot as plt\n",
    "import pandas as pd\n",
    "\n",
    "\n",
    "from layer import HiddenLayer\n",
    "from activations import *\n",
    "from losses import *\n",
    "from network import Network\n",
    "from regularizers import *\n",
    "from utils import *\n",
    "\n",
    "random.seed(42)\n",
    "np.random.seed(42)"
   ]
  },
  {
   "cell_type": "code",
   "execution_count": null,
   "metadata": {
    "ExecuteTime": {
     "end_time": "2023-12-26T14:25:43.536918Z",
     "start_time": "2023-12-26T14:25:43.270510Z"
    }
   },
   "outputs": [],
   "source": [
    "columnIds = [\n",
    "    \"id\",\n",
    "    \"x1\",\n",
    "    \"x2\",\n",
    "    \"x3\",\n",
    "    \"x4\",\n",
    "    \"x5\",\n",
    "    \"x6\",\n",
    "    \"x7\",\n",
    "    \"x8\",\n",
    "    \"x9\",\n",
    "    \"x10\",\n",
    "    \"y1\",\n",
    "    \"y2\",\n",
    "    \"y3\",\n",
    "]\n",
    "dt = pd.read_csv(\"data/trainData.csv\", sep=\",\", names=columnIds)\n",
    "dt.set_index(\"id\", inplace=True)\n",
    "\n",
    "X = dt.iloc[:,:10].to_numpy()\n",
    "y = dt.iloc[:,10:].to_numpy()\n",
    "\n",
    "data = dt.to_numpy()\n",
    "# plot last 3 values of the data in 3D space\n",
    "\n",
    "# plot last 3 values of the data in 3D space and color the points according to the first label\n",
    "fig = plt.figure()\n",
    "ax = fig.add_subplot(111, projection=\"3d\")\n",
    "ax.scatter(data[:, 7], data[:, 8], data[:, 9], c=data[:, 10])\n",
    "plt.show()"
   ]
  },
  {
   "cell_type": "code",
   "execution_count": null,
   "metadata": {
    "ExecuteTime": {
     "end_time": "2023-12-26T14:25:46.416945Z",
     "start_time": "2023-12-26T14:25:46.376553Z"
    },
    "collapsed": false
   },
   "outputs": [],
   "source": [
    "# input is forcibly shaped to a column vector\n",
    "X.shape = (len(dt), 10, 1)\n",
    "X[0].shape"
   ]
  },
  {
   "cell_type": "code",
   "execution_count": null,
   "metadata": {
    "ExecuteTime": {
     "end_time": "2023-12-26T14:27:28.531007Z",
     "start_time": "2023-12-26T14:27:28.462144Z"
    },
    "collapsed": false
   },
   "outputs": [],
   "source": [
    "# simple example with a small nn\n",
    "network = Network(loss=MSE(1))\n",
    "network.add_layer(units_size=2,input_size=3,activation=Identity(),regularizer=L2(lambda_=0.069))\n",
    "network.add_layer(units_size=2,input_size=2,activation=Identity(),regularizer=L2(lambda_=0.069))"
   ]
  },
  {
   "cell_type": "code",
   "execution_count": null,
   "metadata": {
    "ExecuteTime": {
     "end_time": "2023-12-26T14:27:32.222613Z",
     "start_time": "2023-12-26T14:27:32.154421Z"
    },
    "collapsed": false
   },
   "outputs": [],
   "source": [
    "print(network.layers[0].W)\n",
    "print(network.layers[0].b)\n",
    "print()\n",
    "print(network.layers[1].W)\n",
    "print(network.layers[1].b)"
   ]
  },
  {
   "cell_type": "code",
   "execution_count": null,
   "metadata": {
    "ExecuteTime": {
     "end_time": "2023-12-26T14:27:34.232890Z",
     "start_time": "2023-12-26T14:27:34.181817Z"
    },
    "collapsed": false
   },
   "outputs": [],
   "source": [
    "# a small input\n",
    "input = X[0][:3]\n",
    "print(input, input.shape)"
   ]
  },
  {
   "cell_type": "code",
   "execution_count": null,
   "metadata": {
    "ExecuteTime": {
     "end_time": "2023-12-26T14:27:35.575442Z",
     "start_time": "2023-12-26T14:27:35.537981Z"
    },
    "collapsed": false
   },
   "outputs": [],
   "source": [
    "network.forward(X[0][:3])"
   ]
  },
  {
   "cell_type": "markdown",
   "metadata": {
    "collapsed": false
   },
   "source": [
    "^ Works, I checked manually"
   ]
  },
  {
   "cell_type": "markdown",
   "metadata": {
    "collapsed": false
   },
   "source": [
    "# Let's do a little net!"
   ]
  },
  {
   "cell_type": "markdown",
   "metadata": {
    "collapsed": false
   },
   "source": [
    "TODO Fix input shapes"
   ]
  },
  {
   "cell_type": "code",
   "execution_count": null,
   "metadata": {
    "ExecuteTime": {
     "end_time": "2023-12-26T11:42:42.135076Z",
     "start_time": "2023-12-26T11:42:42.091875Z"
    },
    "collapsed": false
   },
   "outputs": [],
   "source": [
    "inputs = np.array([[1, 2, 3],\n",
    "                   [4, 5, 6],\n",
    "                   [7, 8, 9],\n",
    "                   [10, 11, 12]])\n",
    "y_true = np.array([[1, 0],\n",
    "                   [3, 2],\n",
    "                   [5, 6],\n",
    "                   [0, 1]])\n",
    "print(inputs.shape)\n",
    "print(y_true.shape)"
   ]
  },
  {
   "cell_type": "code",
   "execution_count": null,
   "metadata": {
    "ExecuteTime": {
     "end_time": "2023-12-26T11:42:42.596794Z",
     "start_time": "2023-12-26T11:42:42.549782Z"
    },
    "collapsed": false
   },
   "outputs": [],
   "source": [
    "net = Network(MSE(1)) # 2 is the batch size\n",
    "net.add_layer(input_size=3, units_size=2, activation=ReLU())\n",
    "net.add_layer(input_size=2, units_size=2, activation=Identity())"
   ]
  },
  {
   "cell_type": "code",
   "execution_count": null,
   "metadata": {
    "ExecuteTime": {
     "end_time": "2023-12-26T11:42:44.523189Z",
     "start_time": "2023-12-26T11:42:44.478389Z"
    },
    "collapsed": false
   },
   "outputs": [],
   "source": [
    "print(net)"
   ]
  },
  {
   "cell_type": "code",
   "execution_count": null,
   "metadata": {
    "ExecuteTime": {
     "end_time": "2023-12-26T11:42:47.701464Z",
     "start_time": "2023-12-26T11:42:47.686814Z"
    },
    "collapsed": false
   },
   "outputs": [],
   "source": [
    "print(net.layers[0].W)\n",
    "print(net.layers[0].W.T)"
   ]
  },
  {
   "cell_type": "code",
   "execution_count": null,
   "metadata": {
    "ExecuteTime": {
     "end_time": "2023-12-26T11:43:24.287761Z",
     "start_time": "2023-12-26T11:43:24.250078Z"
    },
    "collapsed": false
   },
   "outputs": [],
   "source": [
    "a = np.array([[1, 2, 1],\n",
    "              [3, 4, 5]])\n",
    "x = np.array([[1, 2, 3]])\n",
    "print(a.shape, x.shape)\n",
    "print(a.dot(x.T))"
   ]
  },
  {
   "cell_type": "code",
   "execution_count": null,
   "metadata": {
    "ExecuteTime": {
     "end_time": "2023-12-26T11:43:25.887063Z",
     "start_time": "2023-12-26T11:43:25.846876Z"
    },
    "collapsed": false
   },
   "outputs": [],
   "source": [
    "net.forward(inputs[0])\n",
    "print(net.layers[0].out)\n",
    "print(net.layers[1].out)"
   ]
  },
  {
   "cell_type": "code",
   "execution_count": null,
   "metadata": {
    "ExecuteTime": {
     "end_time": "2023-12-26T11:31:55.065557Z",
     "start_time": "2023-12-26T11:31:55.034197Z"
    },
    "collapsed": false
   },
   "outputs": [],
   "source": [
    "net.forward(inputs[0])\n",
    "net.layers[-1].out"
   ]
  },
  {
   "cell_type": "code",
   "execution_count": null,
   "metadata": {
    "ExecuteTime": {
     "end_time": "2023-12-26T11:32:01.133807Z",
     "start_time": "2023-12-26T11:32:01.088211Z"
    },
    "collapsed": false
   },
   "outputs": [],
   "source": [
    "print(y_true[0].shape)"
   ]
  },
  {
   "cell_type": "code",
   "execution_count": null,
   "metadata": {
    "ExecuteTime": {
     "end_time": "2023-12-24T16:30:20.592539800Z",
     "start_time": "2023-12-24T16:30:20.519123200Z"
    },
    "collapsed": false
   },
   "outputs": [],
   "source": [
    "net.forward(inputs[0])\n",
    "net.loss.forward(net.layers[-1].out, y_true[0].reshape(1, 2))"
   ]
  },
  {
   "cell_type": "code",
   "execution_count": null,
   "metadata": {
    "ExecuteTime": {
     "end_time": "2023-12-24T16:30:37.400630900Z",
     "start_time": "2023-12-24T16:30:37.316068500Z"
    },
    "collapsed": false
   },
   "outputs": [],
   "source": [
    "curr_delta = net.loss.backward(net.layers[-1].out, y_true[0].reshape(1, 2))"
   ]
  },
  {
   "cell_type": "code",
   "execution_count": null,
   "metadata": {
    "ExecuteTime": {
     "end_time": "2023-12-24T16:30:40.537817600Z",
     "start_time": "2023-12-24T16:30:40.442456300Z"
    },
    "collapsed": false
   },
   "outputs": [],
   "source": [
    "print(curr_delta)\n",
    "print(np.sum(curr_delta, axis=0, keepdims=True))"
   ]
  },
  {
   "cell_type": "code",
   "execution_count": null,
   "metadata": {
    "collapsed": false
   },
   "outputs": [],
   "source": [
    "net.layers[0].out.shape"
   ]
  },
  {
   "cell_type": "code",
   "execution_count": null,
   "metadata": {
    "collapsed": false
   },
   "outputs": [],
   "source": [
    "print(net.layers[0].W.T.shape)"
   ]
  },
  {
   "cell_type": "markdown",
   "metadata": {
    "collapsed": false
   },
   "source": [
    "## Backpropagation check: XOR! ...impossible"
   ]
  },
  {
   "cell_type": "code",
   "execution_count": null,
   "metadata": {
    "ExecuteTime": {
     "end_time": "2023-12-26T15:07:34.022904Z",
     "start_time": "2023-12-26T15:07:33.980356Z"
    },
    "collapsed": false
   },
   "outputs": [],
   "source": [
    "inputs = np.array([[0, 0],\n",
    "                   [0, 1],\n",
    "                   [1, 0],\n",
    "                   [1, 1]])\n",
    "y_true = np.array([[0],\n",
    "                   [1],\n",
    "                   [1],\n",
    "                   [0]])\n",
    "\n",
    "inputs.shape = (4, 2, 1)\n",
    "\n",
    "net = Network(MSE(1))\n",
    "net.add_layer(input_size=2, units_size=2, activation=Identity())\n",
    "net.add_layer(input_size=2, units_size=1, activation=Identity())\n",
    "\n",
    "net.layers[0].W = np.array([[1, 1],\n",
    "                            [1, 1]])\n",
    "\n",
    "net.layers[0].b = np.array([[-1.5],\n",
    "                            [-0.5]])\n",
    "\n",
    "net.layers[1].W = np.array([[-1],\n",
    "                             [1]])\n",
    "\n",
    "net.layers[1].b = np.array([[-0.5]])\n",
    "print(inputs[3])\n",
    "net.forward(inputs[3])\n",
    "#check = y_true - net.layers[-1].out\n",
    "#print(check)"
   ]
  },
  {
   "cell_type": "code",
   "execution_count": null,
   "metadata": {
    "ExecuteTime": {
     "end_time": "2023-12-26T15:04:33.151866Z",
     "start_time": "2023-12-26T15:04:33.122789Z"
    }
   },
   "outputs": [],
   "source": [
    "print(net.layers[1])"
   ]
  },
  {
   "cell_type": "code",
   "execution_count": null,
   "metadata": {
    "ExecuteTime": {
     "end_time": "2023-12-26T15:04:36.917351Z",
     "start_time": "2023-12-26T15:04:36.882161Z"
    }
   },
   "outputs": [],
   "source": [
    "net.forward(inputs[1])\n",
    "net.layers[-1].out"
   ]
  },
  {
   "cell_type": "code",
   "execution_count": null,
   "metadata": {},
   "outputs": [],
   "source": [
    "s = np.array([[0, 0]])\n",
    "l1 = s.dot([[1, 1], [1, 1]]) + np.array([[-1.5, -0.5]])\n",
    "print(l1)\n",
    "l2 = np.array([[-1], [1]])\n",
    "out = l1.dot(l2) - 0.5\n",
    "print(out)"
   ]
  },
  {
   "cell_type": "code",
   "execution_count": null,
   "metadata": {
    "ExecuteTime": {
     "end_time": "2023-12-26T15:18:45.920846Z",
     "start_time": "2023-12-26T15:18:45.897315Z"
    },
    "collapsed": false
   },
   "outputs": [],
   "source": [
    "net = Network(MSE(4)) # 4 is the batch size\n",
    "net.add_layer(input_size=2, units_size=2, activation=ReLU())\n",
    "net.add_layer(input_size=2, units_size=1, activation=Sigmoid())\n",
    "net.forward(inputs[3])"
   ]
  },
  {
   "cell_type": "code",
   "execution_count": null,
   "metadata": {
    "ExecuteTime": {
     "end_time": "2023-12-26T15:13:37.758889Z",
     "start_time": "2023-12-26T15:13:37.733318Z"
    },
    "collapsed": false
   },
   "outputs": [],
   "source": [
    "# Let's see the initial weights and biases\n",
    "print(net.layers[0],\"\\n\\n\\n\", net.layers[1])"
   ]
  },
  {
   "cell_type": "code",
   "execution_count": null,
   "metadata": {
    "ExecuteTime": {
     "end_time": "2023-12-26T15:13:38.960764Z",
     "start_time": "2023-12-26T15:13:38.933022Z"
    },
    "collapsed": false
   },
   "outputs": [],
   "source": [
    "y_true_test = y_true[0].reshape(1,1)\n",
    "net.loss.forward(net.layers[-1].out, y_true_test)"
   ]
  },
  {
   "cell_type": "code",
   "execution_count": null,
   "metadata": {
    "ExecuteTime": {
     "end_time": "2023-12-26T15:13:39.460255Z",
     "start_time": "2023-12-26T15:13:39.431004Z"
    },
    "collapsed": false
   },
   "outputs": [],
   "source": [
    "net.layers[-1].out"
   ]
  },
  {
   "cell_type": "code",
   "execution_count": null,
   "metadata": {
    "ExecuteTime": {
     "end_time": "2023-12-26T15:21:44.982318Z",
     "start_time": "2023-12-26T15:21:44.866887Z"
    },
    "collapsed": false
   },
   "outputs": [],
   "source": [
    "# Let's backpropagate\n",
    "curr_delta = net.loss.backward(net.layers[-1].out, y_true)\n",
    "print(curr_delta)\n",
    "net.backward(curr_delta) # default value for eta is 0.1"
   ]
  },
  {
   "cell_type": "code",
   "execution_count": null,
   "metadata": {
    "ExecuteTime": {
     "end_time": "2023-12-24T15:11:47.202084500Z",
     "start_time": "2023-12-24T15:11:47.085408200Z"
    },
    "collapsed": false
   },
   "outputs": [],
   "source": [
    "# Let's see with the updated weights and biases\n",
    "net.forward(inputs)\n",
    "net.loss.forward(net.layers[-1].out, y_true)"
   ]
  },
  {
   "cell_type": "code",
   "execution_count": null,
   "metadata": {
    "ExecuteTime": {
     "end_time": "2023-12-24T15:12:01.077514600Z",
     "start_time": "2023-12-24T15:12:00.860387100Z"
    },
    "collapsed": false
   },
   "outputs": [],
   "source": [
    "net.layers[-1].out"
   ]
  },
  {
   "cell_type": "code",
   "execution_count": null,
   "metadata": {
    "ExecuteTime": {
     "end_time": "2023-12-24T15:42:20.650479300Z",
     "start_time": "2023-12-24T15:42:04.997594800Z"
    },
    "collapsed": false
   },
   "outputs": [],
   "source": [
    "for i in range(100000):\n",
    "    net.forward(inputs)\n",
    "    curr_delta = net.loss.backward(net.layers[-1].out, y_true)\n",
    "    net.backward(curr_delta, eta=1e-3)\n",
    "\n",
    "print(net.loss.forward(net.layers[-1].out, y_true))\n",
    "print(net.layers[-1].out)\n",
    "print(net.layers[0])\n",
    "print(net.layers[1])"
   ]
  },
  {
   "cell_type": "markdown",
   "metadata": {
    "collapsed": false
   },
   "source": [
    "## Backpropagation check: Monk"
   ]
  },
  {
   "cell_type": "code",
   "execution_count": null,
   "metadata": {
    "ExecuteTime": {
     "end_time": "2023-12-26T15:35:24.469759Z",
     "start_time": "2023-12-26T15:35:24.425360Z"
    },
    "collapsed": false
   },
   "outputs": [],
   "source": [
    "names = ['target', 'x1', 'x2', 'x3', 'x4', 'x5', 'x6', 'id']\n",
    "df = pd.read_csv('./data/monk/monks-1.train', sep=' ', skipinitialspace=True, names=names)\n",
    "df"
   ]
  },
  {
   "cell_type": "code",
   "execution_count": null,
   "metadata": {
    "ExecuteTime": {
     "end_time": "2023-12-26T15:38:21.948473Z",
     "start_time": "2023-12-26T15:38:21.912343Z"
    },
    "collapsed": false
   },
   "outputs": [],
   "source": [
    "df.drop(columns=['id'], inplace=True)"
   ]
  },
  {
   "cell_type": "code",
   "execution_count": null,
   "metadata": {
    "ExecuteTime": {
     "end_time": "2023-12-26T15:38:23.318307Z",
     "start_time": "2023-12-26T15:38:23.287243Z"
    },
    "collapsed": false
   },
   "outputs": [],
   "source": [
    "df"
   ]
  },
  {
   "cell_type": "code",
   "execution_count": null,
   "metadata": {
    "ExecuteTime": {
     "end_time": "2023-12-26T15:40:28.692110Z",
     "start_time": "2023-12-26T15:40:28.652107Z"
    },
    "collapsed": false
   },
   "outputs": [],
   "source": [
    "X = df.iloc[:,1:].values\n",
    "y = df.iloc[:,0].values"
   ]
  },
  {
   "cell_type": "code",
   "execution_count": null,
   "metadata": {
    "ExecuteTime": {
     "end_time": "2023-12-26T16:36:38.813534Z",
     "start_time": "2023-12-26T16:36:38.773363Z"
    },
    "collapsed": false
   },
   "outputs": [],
   "source": [
    "X.shape = (len(X), 6, 1)\n",
    " # !!!!!!!!!!!!!!!!!!!!!!!!!!!!!!!!!\n",
    "y.shape = (124, 1, 1)  # !!!!!!!!!!!!!!!!!!!!!!!!!!!!!!!!!\n",
    " # !!!!!!!!!!!!!!!!!!!!!!!!!!!!!!!!!"
   ]
  },
  {
   "cell_type": "code",
   "execution_count": null,
   "metadata": {
    "ExecuteTime": {
     "end_time": "2023-12-26T16:36:39.160759Z",
     "start_time": "2023-12-26T16:36:39.124011Z"
    },
    "collapsed": false
   },
   "outputs": [],
   "source": [
    "print(X.shape, y.shape)"
   ]
  },
  {
   "cell_type": "code",
   "execution_count": null,
   "metadata": {
    "ExecuteTime": {
     "end_time": "2023-12-26T16:35:46.038475Z",
     "start_time": "2023-12-26T16:35:46.005885Z"
    },
    "collapsed": false
   },
   "outputs": [],
   "source": [
    "network = Network(MSE(batch_size=df.shape[0]))"
   ]
  },
  {
   "cell_type": "code",
   "execution_count": null,
   "metadata": {
    "ExecuteTime": {
     "end_time": "2023-12-26T16:35:47.019027Z",
     "start_time": "2023-12-26T16:35:46.977773Z"
    },
    "collapsed": false
   },
   "outputs": [],
   "source": [
    "network.add_layer(input_size=6, units_size=4, activation=Identity())\n",
    "network.add_layer(input_size=4, units_size=1, activation=Identity())"
   ]
  },
  {
   "cell_type": "code",
   "execution_count": null,
   "metadata": {
    "ExecuteTime": {
     "end_time": "2023-12-26T16:35:48.062539Z",
     "start_time": "2023-12-26T16:35:48.037034Z"
    },
    "collapsed": false
   },
   "outputs": [],
   "source": [
    "out = network.forward(X[0])"
   ]
  },
  {
   "cell_type": "code",
   "execution_count": null,
   "metadata": {
    "ExecuteTime": {
     "end_time": "2023-12-26T16:36:54.591826Z",
     "start_time": "2023-12-26T16:36:54.557419Z"
    },
    "collapsed": false
   },
   "outputs": [],
   "source": [
    "loss = network.loss.forward(out, y[0])"
   ]
  },
  {
   "cell_type": "code",
   "execution_count": null,
   "metadata": {
    "ExecuteTime": {
     "end_time": "2023-12-26T16:46:40.119268Z",
     "start_time": "2023-12-26T16:46:39.793879Z"
    },
    "collapsed": false
   },
   "outputs": [],
   "source": [
    "network.loss.backward(out, y[0])"
   ]
  },
  {
   "cell_type": "code",
   "execution_count": null,
   "metadata": {
    "ExecuteTime": {
     "end_time": "2023-12-26T17:08:47.247401Z",
     "start_time": "2023-12-26T17:08:47.105843Z"
    },
    "collapsed": false
   },
   "outputs": [],
   "source": [
    "network.backward(network.loss.backward(out, y[0]), eta=0.1)"
   ]
  },
  {
   "cell_type": "code",
   "execution_count": null,
   "metadata": {
    "ExecuteTime": {
     "end_time": "2023-12-26T17:10:04.539940Z",
     "start_time": "2023-12-26T17:10:04.367941Z"
    },
    "collapsed": false
   },
   "outputs": [],
   "source": [
    "out = network.forward(X[0])"
   ]
  },
  {
   "cell_type": "code",
   "execution_count": null,
   "metadata": {
    "ExecuteTime": {
     "end_time": "2023-12-26T17:10:17.341052Z",
     "start_time": "2023-12-26T17:10:17.300506Z"
    },
    "collapsed": false
   },
   "outputs": [],
   "source": [
    "loss = network.loss.forward(out, y[0])"
   ]
  },
  {
   "cell_type": "code",
   "execution_count": null,
   "metadata": {
    "ExecuteTime": {
     "end_time": "2023-12-26T17:10:32.924814Z",
     "start_time": "2023-12-26T17:10:32.860167Z"
    },
    "collapsed": false
   },
   "outputs": [],
   "source": [
    "loss"
   ]
  },
  {
   "cell_type": "code",
   "execution_count": null,
   "metadata": {
    "ExecuteTime": {
     "end_time": "2023-12-26T17:11:06.335702Z",
     "start_time": "2023-12-26T17:11:06.289228Z"
    },
    "collapsed": false
   },
   "outputs": [],
   "source": [
    "network.backward(network.loss.backward(out, y[0]), eta=0.1)\n",
    "out = network.forward(X[0])\n",
    "loss = network.loss.forward(out, y[0])"
   ]
  },
  {
   "cell_type": "code",
   "execution_count": null,
   "metadata": {
    "ExecuteTime": {
     "end_time": "2023-12-26T17:11:09.457960Z",
     "start_time": "2023-12-26T17:11:09.397076Z"
    },
    "collapsed": false
   },
   "outputs": [],
   "source": [
    "loss"
   ]
  },
  {
   "cell_type": "code",
   "execution_count": null,
   "metadata": {
    "ExecuteTime": {
     "end_time": "2023-12-26T17:13:42.909950Z",
     "start_time": "2023-12-26T17:13:42.798152Z"
    },
    "collapsed": false
   },
   "outputs": [],
   "source": []
  },
  {
   "cell_type": "code",
   "execution_count": null,
   "metadata": {
    "ExecuteTime": {
     "end_time": "2023-12-26T17:06:59.460142Z",
     "start_time": "2023-12-26T17:06:59.418682Z"
    },
    "collapsed": false
   },
   "outputs": [],
   "source": [
    "mat1 = np.random.randint(low=1, high=6, size=(3,1))"
   ]
  },
  {
   "cell_type": "code",
   "execution_count": null,
   "metadata": {
    "ExecuteTime": {
     "end_time": "2023-12-26T17:06:59.942408Z",
     "start_time": "2023-12-26T17:06:59.911468Z"
    },
    "collapsed": false
   },
   "outputs": [],
   "source": [
    "mat1"
   ]
  },
  {
   "cell_type": "code",
   "execution_count": null,
   "metadata": {
    "ExecuteTime": {
     "end_time": "2023-12-26T17:07:01.581196Z",
     "start_time": "2023-12-26T17:07:01.530774Z"
    },
    "collapsed": false
   },
   "outputs": [],
   "source": [
    "mat1 -= np.sum(mat1, axis=0, keepdims=True)\n",
    "mat1"
   ]
  },
  {
   "cell_type": "markdown",
   "metadata": {
    "collapsed": false
   },
   "source": [
    "# Smooth L1 reg"
   ]
  },
  {
   "cell_type": "code",
   "execution_count": null,
   "metadata": {
    "ExecuteTime": {
     "end_time": "2023-12-26T22:20:17.093936100Z",
     "start_time": "2023-12-26T22:20:16.918692900Z"
    },
    "collapsed": false
   },
   "outputs": [],
   "source": [
    "weights = np.array([[1, 2, 3], \n",
    "                   [4, 5, 6]])\n",
    "weights.shape"
   ]
  },
  {
   "cell_type": "code",
   "execution_count": null,
   "metadata": {
    "ExecuteTime": {
     "end_time": "2023-12-26T22:21:26.539033300Z",
     "start_time": "2023-12-26T22:21:26.401953400Z"
    },
    "collapsed": false
   },
   "outputs": [],
   "source": [
    "phi = 3\n",
    "print(np.log(1+np.exp(-phi * weights)).shape)"
   ]
  },
  {
   "cell_type": "code",
   "execution_count": null,
   "metadata": {
    "ExecuteTime": {
     "end_time": "2023-12-26T22:22:22.074274400Z",
     "start_time": "2023-12-26T22:22:21.945516Z"
    },
    "collapsed": false
   },
   "outputs": [],
   "source": [
    "abs_phi = 1/phi * (np.log(1 + np.exp(-phi * weights)) + np.log(1 + np.exp(phi * weights)))\n",
    "print(abs_phi.shape)"
   ]
  },
  {
   "cell_type": "code",
   "execution_count": null,
   "metadata": {
    "ExecuteTime": {
     "end_time": "2023-12-26T22:22:37.227714200Z",
     "start_time": "2023-12-26T22:22:37.094365300Z"
    },
    "collapsed": false
   },
   "outputs": [],
   "source": [
    "total = np.sum(1/phi * (np.log(1 + np.exp(-phi * weights)) + np.log(1 + np.exp(phi * weights))))\n",
    "print(total)"
   ]
  },
  {
   "cell_type": "code",
   "execution_count": null,
   "metadata": {
    "ExecuteTime": {
     "end_time": "2023-12-26T22:52:29.732478300Z",
     "start_time": "2023-12-26T22:52:29.575229200Z"
    },
    "collapsed": false
   },
   "outputs": [],
   "source": [
    "derivative = ((np.exp(phi * weights) - 1) / (np.exp(phi * weights) + 1))\n",
    "print(derivative.shape)"
   ]
  },
  {
   "cell_type": "code",
   "execution_count": null,
   "metadata": {
    "collapsed": false
   },
   "outputs": [],
   "source": []
  },
  {
   "cell_type": "markdown",
   "metadata": {},
   "source": [
    "# starting values \n"
   ]
  },
  {
   "cell_type": "code",
   "execution_count": null,
   "metadata": {},
   "outputs": [],
   "source": [
    "from utils import Starting_values, Range_random, Fan_in\n",
    "import numpy as np\n",
    "np.random.seed(42)\n",
    "\n",
    "\n",
    "starting = Fan_in()\n",
    "\n",
    "W = starting(input_size=2, units_size=3)\n",
    "\n",
    "\n",
    "\n",
    "layer = HiddenLayer(input_size=2, units_size=3, starting=Range_random(), activation=ReLU(), regularizer=L2(lambda_=0.1))\n",
    "\n",
    "print(layer)\n"
   ]
  },
  {
   "cell_type": "markdown",
   "metadata": {
    "collapsed": false
   },
   "source": [
    "# Does it print?"
   ]
  },
  {
   "cell_type": "code",
   "execution_count": null,
   "metadata": {
    "ExecuteTime": {
     "end_time": "2023-12-30T14:54:51.475644Z",
     "start_time": "2023-12-30T14:54:51.139923400Z"
    },
    "collapsed": false
   },
   "outputs": [],
   "source": [
    "layer = HiddenLayer(\n",
    "    input_size=2, \n",
    "    units_size=3, \n",
    "    starting=Range_random(), \n",
    "    activation=ReLU(), \n",
    "    regularizer=L2(lambda_=0.1),\n",
    "    momentum=('Standard',0.1)\n",
    ")"
   ]
  },
  {
   "cell_type": "code",
   "execution_count": null,
   "metadata": {
    "ExecuteTime": {
     "end_time": "2023-12-30T14:54:52.846784600Z",
     "start_time": "2023-12-30T14:54:52.618924600Z"
    },
    "collapsed": false
   },
   "outputs": [],
   "source": [
    "print(layer)"
   ]
  },
  {
   "cell_type": "code",
   "execution_count": null,
   "metadata": {
    "collapsed": false
   },
   "outputs": [],
   "source": [
    "import numpy as np"
   ]
  },
  {
   "cell_type": "code",
   "execution_count": null,
   "metadata": {
    "ExecuteTime": {
     "end_time": "2024-01-09T11:10:27.292037Z",
     "start_time": "2024-01-09T11:10:27.277900Z"
    },
    "collapsed": false
   },
   "outputs": [],
   "source": [
    "X = np.array([[[1], \n",
    "               [2]],\n",
    "              [[2], \n",
    "               [3]],\n",
    "              [[3], \n",
    "               [4]],\n",
    "              [[4], \n",
    "               [5]],\n",
    "              [[5], \n",
    "               [6]]])\n",
    "X.shape"
   ]
  },
  {
   "cell_type": "code",
   "execution_count": null,
   "metadata": {
    "ExecuteTime": {
     "end_time": "2024-01-09T11:10:57.842509Z",
     "start_time": "2024-01-09T11:10:57.836007Z"
    },
    "collapsed": false
   },
   "outputs": [],
   "source": [
    "\n",
    "tr_indexes = np.arange(5)\n",
    "print(tr_indexes)\n",
    "np.random.shuffle(tr_indexes)\n",
    "print(tr_indexes)\n",
    "\n",
    "print(X[tr_indexes])"
   ]
  },
  {
   "cell_type": "code",
   "execution_count": null,
   "metadata": {
    "ExecuteTime": {
     "end_time": "2024-01-09T11:12:26.064010Z",
     "start_time": "2024-01-09T11:12:26.048792Z"
    },
    "collapsed": false
   },
   "outputs": [],
   "source": [
    "X[tr_indexes].shape"
   ]
  },
  {
   "cell_type": "code",
   "execution_count": null,
   "metadata": {
    "ExecuteTime": {
     "end_time": "2024-01-09T11:12:36.082248Z",
     "start_time": "2024-01-09T11:12:36.068070Z"
    },
    "collapsed": false
   },
   "outputs": [],
   "source": [
    "type(X[tr_indexes])"
   ]
  },
  {
   "cell_type": "code",
   "execution_count": null,
   "metadata": {
    "collapsed": false
   },
   "outputs": [],
   "source": []
  }
 ],
 "metadata": {
  "kernelspec": {
   "display_name": ".venv",
   "language": "python",
   "name": "python3"
  },
  "language_info": {
   "codemirror_mode": {
    "name": "ipython",
    "version": 3
   },
   "file_extension": ".py",
   "mimetype": "text/x-python",
   "name": "python",
   "nbconvert_exporter": "python",
   "pygments_lexer": "ipython3",
   "version": "3.10.8"
  }
 },
 "nbformat": 4,
 "nbformat_minor": 2
}
