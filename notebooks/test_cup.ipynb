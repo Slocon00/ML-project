{
 "cells": [
  {
   "cell_type": "code",
   "execution_count": null,
   "metadata": {
    "ExecuteTime": {
     "end_time": "2024-01-05T17:48:58.618201Z",
     "start_time": "2024-01-05T17:48:58.603502Z"
    }
   },
   "outputs": [],
   "source": [
    "import numpy as np\n",
    "import random\n",
    "import matplotlib.pyplot as plt\n",
    "import pandas as pd\n",
    "\n",
    "#from sklearn import OneHotEncoder\n",
    "\n",
    "# per importare cose nella folder precedente da ora in poi\n",
    "import sys\n",
    "sys.path.append('../')\n",
    "\n",
    "from layer import HiddenLayer\n",
    "from activations import *\n",
    "from losses import *\n",
    "from network import Network\n",
    "from regularizers import *\n",
    "from utils import *\n",
    "from metrics import *\n",
    "from validation import *\n",
    "from gridsearch import grid_search\n",
    "\n",
    "random.seed(42)\n",
    "np.random.seed(42)\n",
    "\n",
    "# Progress bar\n",
    "from tqdm import tqdm\n",
    "import time"
   ]
  },
  {
   "cell_type": "code",
   "execution_count": null,
   "metadata": {
    "ExecuteTime": {
     "end_time": "2024-01-05T17:48:58.827505Z",
     "start_time": "2024-01-05T17:48:58.802404Z"
    }
   },
   "outputs": [],
   "source": [
    "X_train, y_train, test = read_cup(\"../data/ML-CUP23-TR.csv\", \"../data/ML-CUP23-TS.csv\")"
   ]
  },
  {
   "cell_type": "code",
   "execution_count": null,
   "metadata": {
    "ExecuteTime": {
     "end_time": "2024-01-05T17:48:59.053348Z",
     "start_time": "2024-01-05T17:48:59.041615Z"
    },
    "collapsed": false
   },
   "outputs": [],
   "source": [
    "from sklearn.preprocessing import MinMaxScaler\n",
    "rescaler = MinMaxScaler()\n",
    "y_train = y_train.reshape(y_train.shape[0], y_train.shape[1])\n",
    "rescaler.fit(y_train)\n",
    "y_train = rescaler.transform(y_train)\n",
    "y_train = y_train.reshape(y_train.shape[0], y_train.shape[1], 1)"
   ]
  },
  {
   "cell_type": "code",
   "execution_count": null,
   "metadata": {
    "ExecuteTime": {
     "end_time": "2024-01-05T17:49:28.663653Z",
     "start_time": "2024-01-05T17:49:28.639880Z"
    }
   },
   "outputs": [],
   "source": [
    "seed = 3\n",
    "np.random.seed(seed)\n",
    "net = Network(MSE(1), eta=1e-3)\n",
    "\n",
    "net.add_layer(\n",
    "    input_size=len(X_train[0]),\n",
    "    units_size=16,\n",
    "    starting=Range_random(),\n",
    "    regularizer=None,\n",
    "    activation=ReLU(),\n",
    ")\n",
    "\n",
    "net.add_layer(\n",
    "    input_size=16,\n",
    "    units_size=16,\n",
    "    starting=Range_random(),\n",
    "    regularizer=None,\n",
    "    activation=ReLU(),\n",
    ")\n",
    "\n",
    "net.add_layer(\n",
    "    input_size=16,\n",
    "    units_size=3,\n",
    "    starting=Range_random(),\n",
    "    regularizer=None,\n",
    "    activation=Identity(),\n",
    ")"
   ]
  },
  {
   "cell_type": "code",
   "execution_count": null,
   "metadata": {
    "ExecuteTime": {
     "end_time": "2024-01-05T17:49:29.803931Z",
     "start_time": "2024-01-05T17:49:29.789923Z"
    },
    "collapsed": false
   },
   "outputs": [],
   "source": [
    "X_split = np.array_split(X_train, 5)\n",
    "y_split = np.array_split(y_train, 5)\n",
    "\n",
    "X_train = np.concatenate(X_split[:4] + (X_split[4 + 1:]))\n",
    "y_train = np.concatenate(y_split[:4] + (y_split[4 + 1:]))\n",
    "\n",
    "X_val = X_split[4]\n",
    "y_val = y_split[4]"
   ]
  },
  {
   "cell_type": "code",
   "execution_count": null,
   "metadata": {
    "ExecuteTime": {
     "end_time": "2024-01-05T18:12:41.378345Z",
     "start_time": "2024-01-05T17:49:30.885348Z"
    },
    "collapsed": false
   },
   "outputs": [],
   "source": [
    "info = net.train(\n",
    "    X_train, \n",
    "    y_train,\n",
    "    X_val,\n",
    "    y_val,\n",
    "    500,\n",
    "    100,\n",
    "    MEE()\n",
    ")\n",
    "plt.plot(info['tr_losses'], label='Train Loss')\n",
    "plt.plot(info['val_losses'], label='Val Loss')\n",
    "plt.legend()\n",
    "plt.show()\n",
    "\n",
    "plt.plot(info['tr_metrics'], label='Train Metric')\n",
    "plt.plot(info['val_metrics'], label='Val Metric')\n",
    "plt.legend()\n",
    "plt.show()"
   ]
  },
  {
   "cell_type": "code",
   "execution_count": null,
   "metadata": {
    "ExecuteTime": {
     "end_time": "2024-01-05T18:12:41.478149Z",
     "start_time": "2024-01-05T18:12:41.378068Z"
    },
    "collapsed": false
   },
   "outputs": [],
   "source": [
    "print(net.statistics(X_train, y_train, MEE()))"
   ]
  },
  {
   "cell_type": "code",
   "execution_count": null,
   "metadata": {
    "ExecuteTime": {
     "end_time": "2024-01-03T22:17:10.013205Z",
     "start_time": "2024-01-03T22:16:02.496865Z"
    }
   },
   "outputs": [],
   "source": [
    "statistics = kfold_crossval(\n",
    "    X=X_train,\n",
    "    y=y_train,\n",
    "    k=6,\n",
    "    net=net,\n",
    "    epochs=2500,\n",
    "    patience=100,\n",
    "    seed=seed,\n",
    "    metric=MEE()\n",
    ")\n",
    "\n",
    "print(statistics)"
   ]
  },
  {
   "cell_type": "code",
   "execution_count": null,
   "metadata": {
    "ExecuteTime": {
     "end_time": "2024-01-04T15:27:45.023062Z",
     "start_time": "2024-01-04T15:14:05.534678Z"
    },
    "collapsed": false
   },
   "outputs": [],
   "source": [
    "hyperparameters = {\n",
    "    'layers_sizes': [[64, 64, 3]],\n",
    "    'activations': [\"ReLU\"], \n",
    "    'startings': [\"Range_random\"],\n",
    "    'startings_range': [(-0.5, 0.5)],\n",
    "    'regularizers': [\"L2\"],\n",
    "    'regularizers_lambda': [1e-6],\n",
    "    'momentums': [('Standard', 0.9)],\n",
    "    'etas': [1e-2],\n",
    "}\n",
    "\n",
    "data_to_csv = grid_search(\n",
    "    hyperparams=hyperparameters,\n",
    "    X=X_train,\n",
    "    y=y_train,\n",
    "    k=6,\n",
    "    metric=MEE(),\n",
    "    loss=MSE(1),\n",
    "    seed=6,\n",
    "    verbose=True\n",
    ")\n",
    "\n"
   ]
  },
  {
   "cell_type": "code",
   "execution_count": null,
   "metadata": {},
   "outputs": [],
   "source": [
    "X_train, y_train, test = read_cup(\"../data/ML-CUP23-TR.csv\", \"../data/ML-CUP23-TS.csv\")"
   ]
  },
  {
   "cell_type": "code",
   "execution_count": null,
   "metadata": {},
   "outputs": [],
   "source": [
    "# reshape ytrain eliminating last shape\n",
    "y_train = y_train.reshape(y_train.shape[0], y_train.shape[1])\n",
    "y_train.shape"
   ]
  },
  {
   "cell_type": "code",
   "execution_count": null,
   "metadata": {},
   "outputs": [],
   "source": [
    "# reshape Xtrain eliminating last shape\n",
    "X_train = X_train.reshape(X_train.shape[0], X_train.shape[1])\n",
    "X_train.shape"
   ]
  },
  {
   "cell_type": "code",
   "execution_count": null,
   "metadata": {},
   "outputs": [],
   "source": [
    "# use scikit-lear to make regression in 3d\n",
    "from sklearn.neural_network import MLPRegressor\n",
    "\n",
    "mlp = MLPRegressor(\n",
    "    hidden_layer_sizes=(32,32),\n",
    "    activation='relu',\n",
    "    solver='sgd',\n",
    "    alpha=0,\n",
    "    batch_size=1,\n",
    "    learning_rate_init=1e-3,\n",
    "    max_iter=2500,\n",
    "    shuffle=True,\n",
    "    random_state=6,\n",
    "    verbose=True,\n",
    "    momentum=0,\n",
    "    beta_1= 0,\n",
    "    beta_2= 0.,\n",
    "    epsilon= 1,\n",
    "    validation_fraction = 0,\n",
    "    nesterovs_momentum=False\n",
    ")\n",
    "\n",
    "mlp.fit(X_train, y_train)\n",
    "# print the learning curve\n",
    "plt.plot(mlp.loss_curve_)\n",
    "plt.show()\n",
    "\n",
    "# print the mean error\n",
    "print(MEE()(y_train, mlp.predict(X_train)))"
   ]
  },
  {
   "cell_type": "code",
   "execution_count": null,
   "metadata": {
    "ExecuteTime": {
     "end_time": "2024-01-03T22:56:39.674710Z",
     "start_time": "2024-01-03T22:56:39.670814Z"
    }
   },
   "outputs": [],
   "source": [
    "import itertools\n",
    "\n",
    "# Define the hyperparameters as dictionaries\n",
    "hyperparameters = {\n",
    "    'losses': [\"MSE\"],\n",
    "    'layers_sizes': [[32,32,3],[16,16,16,3]],\n",
    "    'activations': [\"ReLU\"], \n",
    "    'startings': [\"Range_random\"],\n",
    "    'startings_range': [(-0.5, 0.5)],\n",
    "    'regularizers': [\"L2\"],\n",
    "    'regularizers_lambda': [1e-6, 1e-8],\n",
    "    'momentums': [('Nesterov', 1e-4), ('Standard', 1e-4)],\n",
    "    'etas': [1e-4]\n",
    "}\n",
    "\n",
    "# Create a list of all the possible combinations using itertools.product\n",
    "hyperparameter_combinations = list(itertools.product(*hyperparameters.values()))\n",
    "\n",
    "all_dics = []\n",
    "# Print the result or use it as needed\n",
    "for combination in hyperparameter_combinations:\n",
    "    hyperparameter_dict = dict(zip(hyperparameters.keys(), combination))\n",
    "    print(hyperparameter_dict)\n",
    "    all_dics.append(hyperparameter_dict)"
   ]
  },
  {
   "cell_type": "code",
   "execution_count": null,
   "metadata": {
    "ExecuteTime": {
     "end_time": "2024-01-03T22:56:47.646140Z",
     "start_time": "2024-01-03T22:56:47.642715Z"
    }
   },
   "outputs": [],
   "source": [
    "for i in all_dics:\n",
    "    print(*i.values())"
   ]
  },
  {
   "cell_type": "code",
   "execution_count": null,
   "metadata": {
    "ExecuteTime": {
     "end_time": "2024-01-03T22:56:54.036524Z",
     "start_time": "2024-01-03T22:56:54.031479Z"
    }
   },
   "outputs": [],
   "source": [
    "losses_ = \"MSE\"\n",
    "\n",
    "startings_ = []\n",
    "startings_range_ = []\n",
    "activations_ = []\n",
    "regularizers_ = []\n",
    "regularizers_lambda_ = []\n",
    "momentums_ = []\n",
    "\n",
    "\n",
    "for combination in all_dics:\n",
    "    layers_sizes_ = combination['layers_sizes']\n",
    "    startings_ = []\n",
    "    activations_ = []\n",
    "    regularizers_ = []\n",
    "    regularizers_lambda_ = []\n",
    "    momentums_ = []\n",
    "    startings_range_ = []\n",
    "    etas_ = combination['etas']\n",
    "    for i in range(len(combination['layers_sizes'])):\n",
    "        activations_.append(combination['activations'] if i != len(layers_sizes_)-1 else \"Identity\")\n",
    "        startings_.append(combination['startings'])\n",
    "        startings_range_.append(combination['startings_range'])\n",
    "        regularizers_.append(combination['regularizers'])\n",
    "        regularizers_lambda_.append(combination['regularizers_lambda'])\n",
    "        momentums_.append(combination['momentums'])\n",
    "    \n",
    "    print(layers_sizes_)\n",
    "    print(activations_)\n",
    "    print(startings_)\n",
    "    print(startings_range_)\n",
    "    print(regularizers_)\n",
    "    print(regularizers_lambda_)\n",
    "    print(momentums_)\n",
    "    print(etas_)\n",
    "    print(\"\\n\")"
   ]
  },
  {
   "cell_type": "code",
   "execution_count": null,
   "metadata": {},
   "outputs": [],
   "source": [
    "data_to_csv = [[\"Loss func\",\"Size\", \"Activation\", \"Starting\", \"Range\", \"Regularizer\", \"lambda\", \"Momentum\", \"Eta\", \"tLoss\", \"tMetric\", \"vLoss\", \"vMetric\"]]"
   ]
  },
  {
   "cell_type": "code",
   "execution_count": null,
   "metadata": {
    "ExecuteTime": {
     "end_time": "2024-01-03T23:01:37.975949Z",
     "start_time": "2024-01-03T22:56:57.341597Z"
    }
   },
   "outputs": [],
   "source": [
    "seed = 3\n",
    "data_to_csv = [[]]\n",
    "losses_ = \"MSE\"\n",
    "\n",
    "for combination in all_dics:\n",
    "    layers_sizes_ = combination['layers_sizes']\n",
    "    activations_ = []\n",
    "    startings_ = []\n",
    "    startings_range_ = []\n",
    "    regularizers_ = []\n",
    "    regularizers_lambda_ = []\n",
    "    momentums_ = []\n",
    "    etas_ = combination['etas']\n",
    "    for i in range(len(combination['layers_sizes'])):\n",
    "        activations_.append(combination['activations'] if i != len(layers_sizes_)-1 else \"Identity\")\n",
    "        startings_.append(combination['startings'])\n",
    "        startings_range_.append(combination['startings_range'])\n",
    "        regularizers_.append(combination['regularizers'])\n",
    "        regularizers_lambda_.append(combination['regularizers_lambda'])\n",
    "        momentums_.append(combination['momentums'])\n",
    "    net = create_all_net(\n",
    "        seed=seed,\n",
    "        loss=\"MSE\",\n",
    "        batch_size=1,\n",
    "        input_size=len(X_train[0]),\n",
    "        num_layer=len(layers_sizes_),\n",
    "        layers_size=layers_sizes_,\n",
    "        activations=activations_,\n",
    "        starting=startings_,\n",
    "        starting_range=startings_range_,\n",
    "        regularizers=regularizers_,\n",
    "        regularizers_lambda=regularizers_lambda_,\n",
    "        momentums=momentums_,\n",
    "        eta=etas_\n",
    "        )\n",
    "    statistics = kfold_crossval(\n",
    "        X=X_train,\n",
    "        y=y_train,\n",
    "        k=6,\n",
    "        net=net,\n",
    "        epochs=10000,\n",
    "        patience=250,\n",
    "        seed=seed,\n",
    "        metric=MEE(),\n",
    "        comb=combination\n",
    "        )\n",
    "    print(statistics)\n",
    "    print(\"\\n\\n\\n\")\n",
    "    data_to_csv.append(list(combination.values()) + list(statistics.values()))\n"
   ]
  },
  {
   "cell_type": "code",
   "execution_count": null,
   "metadata": {},
   "outputs": [],
   "source": [
    "data_to_csv"
   ]
  },
  {
   "cell_type": "code",
   "execution_count": null,
   "metadata": {
    "ExecuteTime": {
     "end_time": "2024-01-03T23:01:57.345336Z",
     "start_time": "2024-01-03T23:01:57.340752Z"
    }
   },
   "outputs": [],
   "source": [
    "import csv\n",
    "\n",
    "csv_file_path = '../statistics/test.csv'\n",
    "with open(csv_file_path, mode='a', newline='') as file:\n",
    "    writer = csv.writer(file)\n",
    "    # Write the data to the CSV file\n",
    "    for row in data_to_csv:\n",
    "        writer.writerow(row)    "
   ]
  }
 ],
 "metadata": {
  "kernelspec": {
   "display_name": ".venv",
   "language": "python",
   "name": "python3"
  },
  "language_info": {
   "codemirror_mode": {
    "name": "ipython",
    "version": 3
   },
   "file_extension": ".py",
   "mimetype": "text/x-python",
   "name": "python",
   "nbconvert_exporter": "python",
   "pygments_lexer": "ipython3",
   "version": "3.12.0"
  }
 },
 "nbformat": 4,
 "nbformat_minor": 2
}
