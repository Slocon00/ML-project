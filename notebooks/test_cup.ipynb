{
 "cells": [
  {
   "cell_type": "code",
   "execution_count": null,
   "metadata": {
    "ExecuteTime": {
     "end_time": "2024-01-29T21:44:49.757727Z",
     "start_time": "2024-01-29T21:44:48.863091Z"
    }
   },
   "outputs": [],
   "source": [
    "import numpy as np\n",
    "import random\n",
    "import matplotlib.pyplot as plt\n",
    "import pandas as pd\n",
    "\n",
    "from sklearn.model_selection import train_test_split\n",
    "\n",
    "# per importare cose nella folder precedente da ora in poi\n",
    "import sys\n",
    "sys.path.append('../')\n",
    "\n",
    "from layer import HiddenLayer\n",
    "from activations import *\n",
    "from losses import *\n",
    "from network import Network\n",
    "from regularizers import *\n",
    "from utils import *\n",
    "from metrics import *\n",
    "from validation import *\n",
    "from gridsearch import grid_search\n",
    "\n",
    "random.seed(42)\n",
    "np.random.seed(42)\n",
    "\n",
    "# Progress bar\n",
    "from tqdm import tqdm\n",
    "import time"
   ]
  },
  {
   "cell_type": "markdown",
   "metadata": {
    "collapsed": false
   },
   "source": [
    "### Reading cup data and splitting training and test set"
   ]
  },
  {
   "cell_type": "code",
   "execution_count": null,
   "metadata": {
    "ExecuteTime": {
     "end_time": "2024-01-29T21:44:53.037716Z",
     "start_time": "2024-01-29T21:44:53.028268Z"
    }
   },
   "outputs": [],
   "source": [
    "X, y, blind_test = read_cup(\"../data/ML-CUP23-TR.csv\", \"../data/ML-CUP23-TS.csv\")"
   ]
  },
  {
   "cell_type": "code",
   "execution_count": null,
   "metadata": {
    "ExecuteTime": {
     "end_time": "2024-01-29T21:44:55.262763Z",
     "start_time": "2024-01-29T21:44:55.251897Z"
    },
    "collapsed": false
   },
   "outputs": [],
   "source": [
    "X_train, X_test, y_train, y_test = train_test_split(X, y, test_size=0.2)"
   ]
  },
  {
   "cell_type": "markdown",
   "metadata": {
    "collapsed": false
   },
   "source": [
    "### first Grid Search\n",
    "Each entry in the dictionary is a different hypeparameter, the associated list contains the corresponding values that we want to test"
   ]
  },
  {
   "cell_type": "code",
   "execution_count": null,
   "metadata": {
    "collapsed": false
   },
   "outputs": [],
   "source": [
    "hyperparameters = {\n",
    "    'layers_sizes': [[512, 128, 3]],\n",
    "    'activations': [\"ReLU\"], \n",
    "    'startings': [\"Range_random\", \"Fan_in\"],\n",
    "    'startings_range': [(-0.1, 0.1),(-0.5, 0.5)],\n",
    "    'regularizers': [\"L2\", \"L2\"],\n",
    "    'regularizers_lambda': [1e-6, 1e-8],\n",
    "    'momentums': [('Nesterov', 0.7), ('Nesterov', 0.9), ('Standard', 0.7), ('Standard', 0.9)],\n",
    "    'etas': [1e-4, 1e-6],\n",
    "}\n",
    "\n",
    "data_to_csv = grid_search(\n",
    "    hyperparams=hyperparameters,\n",
    "    X=X_train,\n",
    "    y=y_train,\n",
    "    k=5,\n",
    "    metric=MEE(),\n",
    "    loss=MSE(1),\n",
    "    seed=6,\n",
    "    verbose=True\n",
    ")"
   ]
  },
  {
   "cell_type": "markdown",
   "metadata": {},
   "source": [
    "The following cell will save the grid result in the specified csv file"
   ]
  },
  {
   "cell_type": "code",
   "execution_count": null,
   "metadata": {
    "collapsed": false
   },
   "outputs": [],
   "source": [
    "import csv\n",
    "\n",
    "csv_file_path = '../statistics/test.csv'\n",
    "with open(csv_file_path, mode='a', newline='') as file:\n",
    "    writer = csv.writer(file)\n",
    "    # Write the data to the CSV file\n",
    "    for row in data_to_csv:\n",
    "        writer.writerow(row)   "
   ]
  },
  {
   "cell_type": "markdown",
   "metadata": {
    "collapsed": false
   },
   "source": [
    "### Checking the best net\n",
    "\n",
    "Once we decided the hyperparameters we can perform a second, finer search changing each layer specific parameters."
   ]
  },
  {
   "cell_type": "code",
   "execution_count": null,
   "metadata": {
    "ExecuteTime": {
     "end_time": "2024-01-29T08:24:37.955924Z",
     "start_time": "2024-01-29T08:24:37.938409Z"
    },
    "collapsed": false
   },
   "outputs": [],
   "source": [
    "np.random.seed(6)\n",
    "net = Network(MSE(1), eta=5e-4, tau=500, cyclic=True) \n",
    "\n",
    "net.add_layer(\n",
    "    input_size=len(X_train[0]),\n",
    "    units_size=512,\n",
    "    activation=ReLU(),\n",
    "    starting=Fan_in(low=-0.5, high=0.5),\n",
    "    regularizer=L2(lambda_=1e-8),\n",
    "    momentum=('Nesterov', 0.99)\n",
    ")\n",
    "\n",
    "net.add_layer(\n",
    "    input_size=512,\n",
    "    units_size=128,\n",
    "    activation=ReLU(),\n",
    "    starting=Fan_in(low=-0.5, high=0.5),\n",
    "    regularizer=L2(lambda_=1e-8),\n",
    "    momentum=('Standard', 0.99)\n",
    ")\n",
    "\n",
    "net.add_layer(\n",
    "    input_size=128,\n",
    "    units_size=3,\n",
    "    activation=Identity(),\n",
    "    starting=Range_random(low=-0.05, high=0.05),\n",
    "    regularizer=L2(lambda_=1e-8),\n",
    "    momentum=('Nesterov', 0.99)\n",
    ")"
   ]
  },
  {
   "cell_type": "markdown",
   "metadata": {},
   "source": [
    "We can also choose the validation parameters, hence the number of folds, max epochs, patience and threshold"
   ]
  },
  {
   "cell_type": "code",
   "execution_count": null,
   "metadata": {
    "ExecuteTime": {
     "end_time": "2024-01-29T09:51:03.933684Z",
     "start_time": "2024-01-29T08:24:59.093328Z"
    },
    "collapsed": false
   },
   "outputs": [],
   "source": [
    "data_to_csv = kfold_crossval(\n",
    "    X=X_train,\n",
    "    y=y_train,\n",
    "    k=5,\n",
    "    net=net,\n",
    "    metric=MEE(),\n",
    "    epochs=10000,\n",
    "    patience=500,\n",
    "    verbose=True\n",
    ")\n",
    "\n",
    "print(data_to_csv)"
   ]
  },
  {
   "cell_type": "markdown",
   "metadata": {},
   "source": [
    "The following cell prints the net, layer wise and the correspondig performance"
   ]
  },
  {
   "cell_type": "code",
   "execution_count": null,
   "metadata": {
    "ExecuteTime": {
     "end_time": "2024-01-29T09:53:42.198731Z",
     "start_time": "2024-01-29T09:53:42.187275Z"
    }
   },
   "outputs": [],
   "source": [
    "import csv\n",
    "layers_csv = []\n",
    "net_csv = []\n",
    "csv_file_path = '../statistics/test.csv'\n",
    "with open(csv_file_path, mode='a', newline='') as file:\n",
    "    writer = csv.writer(file)\n",
    "    net_csv.append(net.to_csv())\n",
    "    writer.writerow(net_csv)\n",
    "    for layer in net.layers:\n",
    "        layers_csv.append(layer.to_csv())\n",
    "    writer.writerow(layers_csv)\n",
    "    # Write the data to the CSV file\n",
    "    for row in data_to_csv:\n",
    "        writer.writerow(row)"
   ]
  },
  {
   "cell_type": "markdown",
   "metadata": {
    "collapsed": false
   },
   "source": [
    "# Let's test in the test set! (NOT the blind one)\n",
    "- k-fold cv (train and val set) gridsearch --> in the cells above\n",
    "- train the best model on the whole training set\n",
    "- test on the test set"
   ]
  },
  {
   "cell_type": "code",
   "execution_count": null,
   "metadata": {
    "ExecuteTime": {
     "end_time": "2024-01-10T21:15:56.468603Z",
     "start_time": "2024-01-10T21:15:56.449938Z"
    },
    "collapsed": false
   },
   "outputs": [],
   "source": [
    "# Set the hyperparameters of the model than won the gridsearch\n",
    "np.random.seed(6)\n",
    "\n",
    "best_net = Network(MSE(1), eta=5e-4)\n",
    "\n",
    "best_net.add_layer(\n",
    "    input_size=len(X_train[0]),\n",
    "    units_size=64,\n",
    "    starting=Fan_in(),\n",
    "    activation=ReLU(),\n",
    "    regularizer=L2(lambda_=1e-8),\n",
    "    momentum=('Nesterov', 0.9)\n",
    ")\n",
    "\n",
    "best_net.add_layer(\n",
    "    input_size=64,\n",
    "    units_size=64,\n",
    "    starting=Fan_in(),\n",
    "    activation=ReLU(),\n",
    "    regularizer=L2(lambda_=1e-8),\n",
    "    momentum=('Nesterov', 0.9)\n",
    ")\n",
    "\n",
    "best_net.add_layer(\n",
    "    input_size=64,\n",
    "    units_size=3,\n",
    "    starting=Fan_in(),\n",
    "    activation=Identity(),\n",
    "    regularizer=L2(lambda_=1e-8),\n",
    "    momentum=('Nesterov', 0.9)\n",
    ")"
   ]
  },
  {
   "cell_type": "markdown",
   "metadata": {
    "collapsed": false
   },
   "source": [
    "We have the best net, let's train it on the whole training set. BUT when should we stop? We try 2 things:\n",
    "- early stopping using the whole training set as validation set\n",
    "- max number of epochs that were necessary to the best model in the k-fold cv"
   ]
  },
  {
   "cell_type": "markdown",
   "metadata": {
    "collapsed": false
   },
   "source": [
    "1. Here we train the best model on the whole training set using early stopping monitoring the whole training set "
   ]
  },
  {
   "cell_type": "code",
   "execution_count": null,
   "metadata": {
    "ExecuteTime": {
     "end_time": "2024-01-10T21:17:44.557007Z",
     "start_time": "2024-01-10T21:16:50.394026Z"
    },
    "collapsed": false
   },
   "outputs": [],
   "source": [
    "info = best_net.train(\n",
    "    X_train, \n",
    "    y_train,\n",
    "    X_train, \n",
    "    y_train,\n",
    "    epochs=10000, \n",
    "    metric=MEE(),\n",
    "    patience=250\n",
    ")"
   ]
  },
  {
   "cell_type": "code",
   "execution_count": null,
   "metadata": {
    "ExecuteTime": {
     "end_time": "2024-01-10T21:23:16.758756Z",
     "start_time": "2024-01-10T21:23:16.650862Z"
    },
    "collapsed": false
   },
   "outputs": [],
   "source": [
    "# Let's print the last value of the loss and metric on the training set (= val set)\n",
    "print(\"Train Loss: \", info['tr_losses'][-1])\n",
    "print(\"Train Metric: \", info['tr_metrics'][-1])\n",
    "\n",
    "# Let's plot the train (and val) loss and metric\n",
    "plt.figure(figsize=(10,5))\n",
    "\n",
    "plt.subplot(1, 2, 1)\n",
    "plt.plot(info['tr_losses'], label='Train Loss')\n",
    "plt.plot(info['val_losses'], label='Val Loss')\n",
    "plt.legend()\n",
    "\n",
    "plt.subplot(1, 2, 2)\n",
    "plt.plot(info['tr_metrics'], label='Train Metric')\n",
    "plt.plot(info['val_metrics'], label='Val Metric')\n",
    "plt.legend()\n",
    "\n",
    "\n",
    "plt.tight_layout()\n",
    "plt.show()"
   ]
  },
  {
   "cell_type": "code",
   "execution_count": null,
   "metadata": {
    "ExecuteTime": {
     "end_time": "2024-01-10T21:41:05.093557Z",
     "start_time": "2024-01-10T21:41:05.076737Z"
    },
    "collapsed": false
   },
   "outputs": [],
   "source": [
    "# Let's see the output of the best model on the test set\n",
    "y_pred = np.zeros((X_test.shape[0], 3, 1))\n",
    "\n",
    "for i in range(X_test.shape[0]):\n",
    "    y_pred[i] = best_net.forward(X_test[i])\n",
    "\n",
    "# Let's print the metric on the test set\n",
    "print(\"Test Metric: \", MEE()(y_test, y_pred))"
   ]
  },
  {
   "cell_type": "markdown",
   "metadata": {
    "collapsed": false
   },
   "source": [
    "2. Let's train the best model on the whole training set using the max number of epochs that were necessary to the best model in the k-fold cv"
   ]
  },
  {
   "cell_type": "code",
   "execution_count": null,
   "metadata": {
    "ExecuteTime": {
     "end_time": "2024-01-10T21:53:15.573211Z",
     "start_time": "2024-01-10T21:53:15.562202Z"
    },
    "collapsed": false
   },
   "outputs": [],
   "source": [
    "# !!! RESET THE BEST NET !!!\n",
    "np.random.seed(6)\n",
    "\n",
    "best_net = Network(MSE(1), eta=5e-4)\n",
    "\n",
    "best_net.add_layer(\n",
    "    input_size=len(X_train[0]),\n",
    "    units_size=64,\n",
    "    starting=Fan_in(),\n",
    "    activation=ReLU(),\n",
    "    regularizer=L2(lambda_=1e-8),\n",
    "    momentum=('Nesterov', 0.9)\n",
    ")\n",
    "\n",
    "best_net.add_layer(\n",
    "    input_size=64,\n",
    "    units_size=64,\n",
    "    starting=Fan_in(),\n",
    "    activation=ReLU(),\n",
    "    regularizer=L2(lambda_=1e-8),\n",
    "    momentum=('Nesterov', 0.9)\n",
    ")\n",
    "\n",
    "best_net.add_layer(\n",
    "    input_size=64,\n",
    "    units_size=3,\n",
    "    starting=Fan_in(),\n",
    "    activation=Identity(),\n",
    "    regularizer=L2(lambda_=1e-8),\n",
    "    momentum=('Nesterov', 0.9)\n",
    ")"
   ]
  },
  {
   "cell_type": "code",
   "execution_count": null,
   "metadata": {
    "ExecuteTime": {
     "end_time": "2024-01-10T21:54:19.791804Z",
     "start_time": "2024-01-10T21:53:19.369012Z"
    },
    "collapsed": false
   },
   "outputs": [],
   "source": [
    "info = best_net.train(\n",
    "    X_train, \n",
    "    y_train,\n",
    "    X_train, \n",
    "    y_train,\n",
    "    epochs=1465, \n",
    "    metric=MEE()\n",
    ")"
   ]
  },
  {
   "cell_type": "code",
   "execution_count": null,
   "metadata": {
    "ExecuteTime": {
     "end_time": "2024-01-10T21:54:24.608552Z",
     "start_time": "2024-01-10T21:54:24.502725Z"
    },
    "collapsed": false
   },
   "outputs": [],
   "source": [
    "# Let's print the last value of the loss and metric on the training set (= val set)\n",
    "print(\"Train Loss: \", info['tr_losses'][-1])\n",
    "print(\"Train Metric: \", info['tr_metrics'][-1])\n",
    "\n",
    "# Let's plot the train (and val) loss and metric\n",
    "plt.figure(figsize=(10,5))\n",
    "\n",
    "plt.subplot(1, 2, 1)\n",
    "plt.plot(info['tr_losses'], label='Train Loss')\n",
    "plt.plot(info['val_losses'], label='Val Loss')\n",
    "plt.legend()\n",
    "\n",
    "plt.subplot(1, 2, 2)\n",
    "plt.plot(info['tr_metrics'], label='Train Metric')\n",
    "plt.plot(info['val_metrics'], label='Val Metric')\n",
    "plt.legend()\n",
    "\n",
    "\n",
    "plt.tight_layout()\n",
    "plt.show()"
   ]
  },
  {
   "cell_type": "code",
   "execution_count": null,
   "metadata": {
    "ExecuteTime": {
     "end_time": "2024-01-10T21:54:28.887200Z",
     "start_time": "2024-01-10T21:54:28.881108Z"
    },
    "collapsed": false
   },
   "outputs": [],
   "source": [
    "# Let's see the output of the best model on the test set\n",
    "y_pred = np.zeros((X_test.shape[0], 3, 1))\n",
    "\n",
    "for i in range(X_test.shape[0]):\n",
    "    y_pred[i] = best_net.forward(X_test[i])\n",
    "\n",
    "# Let's print the metric on the test set\n",
    "print(\"Test Metric: \", MEE()(y_test, y_pred))"
   ]
  },
  {
   "cell_type": "markdown",
   "metadata": {
    "collapsed": false
   },
   "source": [
    "## We retrain the best nn on the whole training set (80%)"
   ]
  },
  {
   "cell_type": "code",
   "execution_count": null,
   "metadata": {
    "ExecuteTime": {
     "end_time": "2024-01-28T22:19:14.468602Z",
     "start_time": "2024-01-28T21:54:57.013214Z"
    },
    "collapsed": false
   },
   "outputs": [],
   "source": [
    "np.random.seed(6)\n",
    "\n",
    "net = Network(MSE(1), eta=5e-4, tau=1000, cyclic=False) \n",
    "\n",
    "net.add_layer(\n",
    "    input_size=len(X_train[0]),\n",
    "    units_size=512,\n",
    "    activation=ReLU(),\n",
    "    starting=Fan_in(low=-0.5, high=0.5),\n",
    "    regularizer=L2(lambda_=1e-8),\n",
    "    momentum=('Nesterov', 0.99)\n",
    ")\n",
    "\n",
    "net.add_layer(\n",
    "    input_size=512,\n",
    "    units_size=128,\n",
    "    activation=ReLU(),\n",
    "    starting=Fan_in(low=-0.5, high=0.5),\n",
    "    regularizer=L2(lambda_=1e-8),\n",
    "    momentum=('Standard', 0.99)\n",
    ")\n",
    "\n",
    "net.add_layer(\n",
    "    input_size=128,\n",
    "    units_size=3,\n",
    "    activation=Identity(),\n",
    "    starting=Range_random(low=-0.05, high=0.05),\n",
    "    regularizer=L2(lambda_=1e-8),\n",
    "    momentum=('Nesterov', 0.99)\n",
    ")\n",
    "\n",
    "info = net.train(\n",
    "    X_train=X_train,\n",
    "    y_train=y_train,\n",
    "    X_val=X_train,\n",
    "    y_val=y_train,\n",
    "    epochs=10000,\n",
    "    metric=MEE(),\n",
    "    final_retrain=True,\n",
    "    final_tr_loss=0.0121\n",
    ")"
   ]
  },
  {
   "cell_type": "code",
   "execution_count": null,
   "metadata": {
    "ExecuteTime": {
     "end_time": "2024-01-28T22:20:34.625006Z",
     "start_time": "2024-01-28T22:20:34.466291Z"
    },
    "collapsed": false
   },
   "outputs": [],
   "source": [
    "print(net.statistics(X_test, y_test, MEE()))"
   ]
  },
  {
   "cell_type": "markdown",
   "metadata": {
    "collapsed": false
   },
   "source": [
    "## Final retrain on all the data and calculating the output\n"
   ]
  },
  {
   "cell_type": "code",
   "execution_count": null,
   "metadata": {
    "collapsed": false
   },
   "outputs": [],
   "source": [
    "net = Network(MSE(1), eta=5e-4, tau=1000, cyclic=False) \n",
    "\n",
    "net.add_layer(\n",
    "    input_size=len(X_train[0]),\n",
    "    units_size=512,\n",
    "    activation=ReLU(),\n",
    "    starting=Fan_in(low=-0.5, high=0.5),\n",
    "    regularizer=L2(lambda_=1e-8),\n",
    "    momentum=('Nesterov', 0.99)\n",
    ")\n",
    "\n",
    "net.add_layer(\n",
    "    input_size=512,\n",
    "    units_size=128,\n",
    "    activation=ReLU(),\n",
    "    starting=Fan_in(low=-0.5, high=0.5),\n",
    "    regularizer=L2(lambda_=1e-8),\n",
    "    momentum=('Standard', 0.99)\n",
    ")\n",
    "\n",
    "net.add_layer(\n",
    "    input_size=128,\n",
    "    units_size=3,\n",
    "    activation=Identity(),\n",
    "    starting=Range_random(low=-0.05, high=0.05),\n",
    "    regularizer=L2(lambda_=1e-8),\n",
    "    momentum=('Nesterov', 0.99)\n",
    ")\n",
    "\n",
    "info = net.train(\n",
    "    X_train=X,\n",
    "    y_train=y,\n",
    "    X_val=X,\n",
    "    y_val=y,\n",
    "    epochs=10000,\n",
    "    metric=MEE(),\n",
    "    final_retrain=True,\n",
    "    final_tr_loss=0.01211, # Mean loss over kfold CV\n",
    ")"
   ]
  },
  {
   "cell_type": "code",
   "execution_count": null,
   "metadata": {
    "collapsed": false
   },
   "outputs": [],
   "source": [
    "folder_path = '..'\n",
    "\n",
    "outputs = []\n",
    "for x in blind_test:\n",
    "    outputs.append(net.forward(x))\n",
    "\n",
    "index = 1\n",
    "with open(f'{folder_path}/ML-CUP23-TS.csv', 'w') as file:\n",
    "    file.write('# Irene Dovichi, Marco Lavorini, Ilaria Ritelli\\n')\n",
    "    file.write('# BunnyProp\\n')\n",
    "    file.write('# ML-CUP23\\n')\n",
    "    file.write('# 30/01/2024\\n')  # Change if needed\n",
    "\n",
    "    for output in outputs:\n",
    "        line = f'{index},{output[0][0]},{output[1][0]},{output[2][0]}\\n'\n",
    "        file.write(line)\n",
    "        index += 1\n"
   ]
  }
 ],
 "metadata": {
  "kernelspec": {
   "display_name": ".venv",
   "language": "python",
   "name": "python3"
  },
  "language_info": {
   "codemirror_mode": {
    "name": "ipython",
    "version": 3
   },
   "file_extension": ".py",
   "mimetype": "text/x-python",
   "name": "python",
   "nbconvert_exporter": "python",
   "pygments_lexer": "ipython3",
   "version": "3.10.8"
  }
 },
 "nbformat": 4,
 "nbformat_minor": 2
}
