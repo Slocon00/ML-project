{
 "cells": [
  {
   "cell_type": "code",
   "execution_count": 31,
   "metadata": {},
   "outputs": [],
   "source": [
    "import numpy as np\n",
    "import random\n",
    "import matplotlib.pyplot as plt\n",
    "import pandas as pd\n",
    "\n",
    "from layer import HiddenLayer\n",
    "from activations import *\n",
    "\n",
    "random.seed(42)\n",
    "np.random.seed(42)\n"
   ]
  },
  {
   "cell_type": "code",
   "execution_count": 32,
   "metadata": {},
   "outputs": [
    {
     "name": "stdout",
     "output_type": "stream",
     "text": [
      "HiddenLayer(num_units=3, num_inputs=3, activation=sigmoid)\n",
      "W=[[-0.12545988  0.45071431  0.23199394]\n",
      " [ 0.09865848 -0.34398136 -0.34400548]\n",
      " [-0.44191639  0.36617615  0.10111501]]\n",
      "b=[[ 0.20807258 -0.47941551  0.46990985]])\n"
     ]
    }
   ],
   "source": [
    "layer = HiddenLayer(3, 3, sigmoid) #bo come gli passo una funzione dopo vedo\n",
    "print(layer)"
   ]
  },
  {
   "cell_type": "code",
   "execution_count": 33,
   "metadata": {},
   "outputs": [
    {
     "data": {
      "text/plain": [
       "array([[0.26002868, 0.59432272, 0.57865095]])"
      ]
     },
     "execution_count": 33,
     "metadata": {},
     "output_type": "execute_result"
    }
   ],
   "source": [
    "out = layer.forward(np.array([[1, 2, 3]]))\n",
    "out"
   ]
  },
  {
   "cell_type": "code",
   "execution_count": 34,
   "metadata": {},
   "outputs": [
    {
     "name": "stdout",
     "output_type": "stream",
     "text": [
      "HiddenLayer(num_units=4, num_inputs=3, activation=sigmoid)\n",
      "W=[[ 0.33244264 -0.28766089 -0.31817503 -0.31659549]\n",
      " [-0.19575776  0.02475643 -0.06805498 -0.20877086]\n",
      " [ 0.11185289 -0.36050614 -0.20785535 -0.13363816]]\n",
      "b=[[-0.04393002  0.28517596 -0.30032622  0.01423444]])\n"
     ]
    }
   ],
   "source": [
    "layer2 = HiddenLayer(3, 4, sigmoid)\n",
    "print(layer2)\n",
    "\n"
   ]
  },
  {
   "cell_type": "code",
   "execution_count": 35,
   "metadata": {},
   "outputs": [
    {
     "name": "stdout",
     "output_type": "stream",
     "text": [
      "[[0.49772379 0.5041204  0.36730796 0.43303069]]\n"
     ]
    }
   ],
   "source": [
    "out2 = layer2.forward(out)\n",
    "print(out2)"
   ]
  },
  {
   "cell_type": "code",
   "execution_count": 36,
   "metadata": {},
   "outputs": [
    {
     "name": "stdout",
     "output_type": "stream",
     "text": [
      "(1, 3)\n",
      "(3, 4)\n"
     ]
    }
   ],
   "source": [
    "print(out.shape)\n",
    "print(layer2.W.shape)"
   ]
  },
  {
   "cell_type": "code",
   "execution_count": 37,
   "metadata": {},
   "outputs": [
    {
     "data": {
      "text/plain": [
       "4.0"
      ]
     },
     "execution_count": 37,
     "metadata": {},
     "output_type": "execute_result"
    }
   ],
   "source": [
    "mse(3, 1)"
   ]
  },
  {
   "cell_type": "code",
   "execution_count": 38,
   "metadata": {},
   "outputs": [
    {
     "ename": "AttributeError",
     "evalue": "module 'matplotlib.pyplot' has no attribute 'pyplot'",
     "output_type": "error",
     "traceback": [
      "\u001b[1;31m---------------------------------------------------------------------------\u001b[0m",
      "\u001b[1;31mAttributeError\u001b[0m                            Traceback (most recent call last)",
      "Cell \u001b[1;32mIn[38], line 5\u001b[0m\n\u001b[0;32m      2\u001b[0m data \u001b[38;5;241m=\u001b[39m data\u001b[38;5;241m.\u001b[39mto_numpy()\n\u001b[0;32m      4\u001b[0m \u001b[38;5;66;03m#plot the data\u001b[39;00m\n\u001b[1;32m----> 5\u001b[0m \u001b[43mplt\u001b[49m\u001b[38;5;241;43m.\u001b[39;49m\u001b[43mpyplot\u001b[49m\u001b[38;5;241m.\u001b[39mscatter(data[:, \u001b[38;5;241m0\u001b[39m], data[:, \u001b[38;5;241m1\u001b[39m], c\u001b[38;5;241m=\u001b[39mdata[:, \u001b[38;5;241m2\u001b[39m])\n\u001b[0;32m      6\u001b[0m plt\u001b[38;5;241m.\u001b[39mpyplot\u001b[38;5;241m.\u001b[39mshow()\n",
      "\u001b[1;31mAttributeError\u001b[0m: module 'matplotlib.pyplot' has no attribute 'pyplot'"
     ]
    }
   ],
   "source": [
    "data = pd.read_csv('data/ML-CUP23-TR.csv', sep=';', header=None)\n",
    "data = data.to_numpy()\n",
    "\n",
    "#plot the data\n",
    "plt.pyplot.scatter(data[:, 0], data[:, 1], c=data[:, 2])\n",
    "plt.pyplot.show()\n",
    "\n",
    "\n",
    "\n"
   ]
  }
 ],
 "metadata": {
  "kernelspec": {
   "display_name": ".venv",
   "language": "python",
   "name": "python3"
  },
  "language_info": {
   "codemirror_mode": {
    "name": "ipython",
    "version": 3
   },
   "file_extension": ".py",
   "mimetype": "text/x-python",
   "name": "python",
   "nbconvert_exporter": "python",
   "pygments_lexer": "ipython3",
   "version": "3.10.8"
  }
 },
 "nbformat": 4,
 "nbformat_minor": 2
}
