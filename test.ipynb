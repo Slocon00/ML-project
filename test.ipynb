{
 "cells": [
  {
   "cell_type": "code",
   "execution_count": 1,
   "metadata": {},
   "outputs": [],
   "source": [
    "import numpy as np\n",
    "import random\n",
    "\n",
    "from layer import HiddenLayer\n",
    "from activations import *\n",
    "\n",
    "random.seed(42)\n",
    "np.random.seed(42)\n"
   ]
  },
  {
   "cell_type": "code",
   "execution_count": 2,
   "metadata": {},
   "outputs": [
    {
     "name": "stdout",
     "output_type": "stream",
     "text": [
      "HiddenLayer(num_units=3, num_inputs=3, activation=sigmoid)\n",
      "W=[[-0.12545988  0.45071431  0.23199394]\n",
      " [ 0.09865848 -0.34398136 -0.34400548]\n",
      " [-0.44191639  0.36617615  0.10111501]]\n",
      "b=[[ 0.20807258 -0.47941551  0.46990985]])\n"
     ]
    }
   ],
   "source": [
    "layer = HiddenLayer(3, 3, sigmoid) #bo come gli passo una funzione dopo vedo\n",
    "print(layer)"
   ]
  },
  {
   "cell_type": "code",
   "execution_count": 3,
   "metadata": {},
   "outputs": [
    {
     "data": {
      "text/plain": [
       "array([[0.26002868, 0.59432272, 0.57865095]])"
      ]
     },
     "execution_count": 3,
     "metadata": {},
     "output_type": "execute_result"
    }
   ],
   "source": [
    "out = layer.forward(np.array([[1, 2, 3]]))\n",
    "out"
   ]
  },
  {
   "cell_type": "code",
   "execution_count": 5,
   "metadata": {},
   "outputs": [
    {
     "name": "stdout",
     "output_type": "stream",
     "text": [
      "HiddenLayer(num_units=4, num_inputs=3, activation=sigmoid)\n",
      "W=[[ 0.09241457 -0.45354959  0.10754485 -0.32947588]\n",
      " [-0.43494841  0.44888554  0.46563203  0.30839735]\n",
      " [-0.19538623 -0.40232789  0.18423303 -0.05984751]]\n",
      "b=[[-0.37796177 -0.00482309 -0.46561148  0.4093204 ]])\n"
     ]
    }
   ],
   "source": [
    "layer2 = HiddenLayer(3, 4, sigmoid)\n",
    "print(layer2)\n",
    "\n"
   ]
  },
  {
   "cell_type": "code",
   "execution_count": 6,
   "metadata": {},
   "outputs": [
    {
     "name": "stdout",
     "output_type": "stream",
     "text": [
      "[[0.32618487 0.47781869 0.48642723 0.61592893]]\n"
     ]
    }
   ],
   "source": [
    "out2 = layer2.forward(out)\n",
    "print(out2)"
   ]
  }
 ],
 "metadata": {
  "kernelspec": {
   "display_name": ".venv",
   "language": "python",
   "name": "python3"
  },
  "language_info": {
   "codemirror_mode": {
    "name": "ipython",
    "version": 3
   },
   "file_extension": ".py",
   "mimetype": "text/x-python",
   "name": "python",
   "nbconvert_exporter": "python",
   "pygments_lexer": "ipython3",
   "version": "3.10.8"
  }
 },
 "nbformat": 4,
 "nbformat_minor": 2
}
